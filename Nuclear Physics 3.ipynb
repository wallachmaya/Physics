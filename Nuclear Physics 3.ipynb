{
 "cells": [
  {
   "cell_type": "markdown",
   "metadata": {},
   "source": [
    "# Even more Nuclear Physics equations"
   ]
  },
  {
   "cell_type": "code",
   "execution_count": 38,
   "metadata": {},
   "outputs": [
    {
     "name": "stdout",
     "output_type": "stream",
     "text": [
      "0.4 The reactor is fine\n"
     ]
    }
   ],
   "source": [
    "#Criticality\n",
    "N_g = 200    # number of neutrons the generation\n",
    "N_p = 80    # number of neutrons preceding generation\n",
    "\n",
    "def k(N_g, N_p):\n",
    "    k = N_p/N_g\n",
    "    return(k)\n",
    "k=k(N_g, N_p)\n",
    "if k>1:\n",
    "    print(k,'The reactor is in a very critical state')\n",
    "elif k==1:\n",
    "    print(k,'The reactor is in a critical state')\n",
    "else:\n",
    "    print(k,'The reactor is fine')"
   ]
  },
  {
   "cell_type": "markdown",
   "metadata": {},
   "source": [
    "Microscopic cross section shows the probability of neutron interaction"
   ]
  },
  {
   "cell_type": "code",
   "execution_count": 30,
   "metadata": {},
   "outputs": [
    {
     "data": {
      "text/plain": [
       "100.0"
      ]
     },
     "execution_count": 30,
     "metadata": {},
     "output_type": "execute_result"
    }
   ],
   "source": [
    "#Cross section\n",
    "num_rect = 3000    #number of reactions per nucleus per second\n",
    "num_inc = 30    #number of incident neutrons per cm^2\n",
    "\n",
    "def cross_section(num_rect,num_inc):\n",
    "    sigma = num_rect/num_inc\n",
    "    return(sigma)\n",
    "cross_section(num_rect,num_inc)"
   ]
  },
  {
   "cell_type": "code",
   "execution_count": 219,
   "metadata": {},
   "outputs": [
    {
     "data": {
      "text/plain": [
       "7.936244396480158"
      ]
     },
     "execution_count": 219,
     "metadata": {},
     "output_type": "execute_result"
    }
   ],
   "source": [
    "#Variable declaration\n",
    "t = 10**-5; # Thickness of Li(3,7), m\n",
    "d = 500; # Density, Kg/m^3\n",
    "N = 6.023e+026; # Number of  nuclei in 7-Kg of Li-7\n",
    "M = 239 ; # Molar mass of U239\n",
    "\n",
    "def cross_section2(t,d,N,M):\n",
    "    n = (d*N*t)/M; # Number of Li(3,7) nuclei/area\n",
    "    N_p = 10**8; # Number of neutron produced/s\n",
    "    N_0 = 10**13; # Number of incident particle striking/unit area of target\n",
    "    C_s = N_p/(N_0*n*(10**(-28))); #  Cross section, b\n",
    "    return(C_s)\n",
    "cross_section2(t,d,N,M)"
   ]
  },
  {
   "cell_type": "code",
   "execution_count": 34,
   "metadata": {},
   "outputs": [
    {
     "name": "stdout",
     "output_type": "stream",
     "text": [
      "The total microscopic cross section is 3e-08\n",
      "The macroscopic cross section is 4.629159931760415e+150\n",
      "The total reaction rate in dx was: 0.00015\n",
      "The mean free path is 33333333.333333336\n"
     ]
    }
   ],
   "source": [
    "from scipy.constants import e\n",
    "from numpy import pi\n",
    "#Information used with cross section\n",
    "N_a = 1000    #amount of atoms density\n",
    "N = 5    #number of neutrons\n",
    "I_0 = 1000000    #neutron beam intensity\n",
    "dx = 0.001    #thiccness of the foil layer\n",
    "C = 30    #number of neutron interactions per square cm per second\n",
    "x = 0.005\n",
    "r = 7    #radius of the foil\n",
    "\n",
    "def total_cross(N_a, I_0, C, num_inc, dx, x, N, r):\n",
    "    sigma = (pi*(r**2))/100    #in barns\n",
    "    sigma_t = C / (N_a*I_0)    #total cross-section\n",
    "    I_x = I_0*(e**((-1*N_a)*sigma*x))    #macroscopic cross section\n",
    "    neg_dI = N*sigma*I_x*dx\n",
    "    dR = sigma_t*I_0*N*dx    # total reaction rate in dx\n",
    "    Lambda = 1/(sigma_t)    #mean free path\n",
    "    print('The total microscopic cross section is',sigma_t)\n",
    "    print('The macroscopic cross section is',I_x)\n",
    "    print('The total reaction rate in dx was:',dR)\n",
    "    print('The mean free path is', Lambda)\n",
    "total_cross(N_a, I_0, C, num_inc, dx, x, N, r)"
   ]
  },
  {
   "cell_type": "markdown",
   "metadata": {},
   "source": [
    "How a nuclear reactor works:<br>\n",
    "The fuel (uranium) is placed into metal tubes called fuel rods. Then the rods are placed under water and the water is a moderator and coolant. The moderator slows down the neutrons to make more fission reactions happen. Heat by the fission makes steam which turns a turbine which makes energy."
   ]
  },
  {
   "cell_type": "code",
   "execution_count": 209,
   "metadata": {
    "scrolled": false
   },
   "outputs": [
    {
     "data": {
      "image/png": "[encoded data removed]",
      "text/plain": [
       "<Figure size 576x576 with 1 Axes>"
      ]
     },
     "metadata": {
      "needs_background": "light"
     },
     "output_type": "display_data"
    }
   ],
   "source": [
    "import numpy as np\n",
    "import matplotlib.pyplot as plt\n",
    "x = []\n",
    "y = []\n",
    "P_o = 200000\n",
    "t_o = 10**8\n",
    "for i in range(25):\n",
    "    t = 10**i\n",
    "    Pd_t = 0.0622*P_o*((t**-0.2)-((t_o + t)**-0.2))\n",
    "    x.append(i)\n",
    "    y.append(Pd_t)\n",
    "\n",
    "plt.title('Heat produced by decay of fission products') \n",
    "plt.xlabel('Time, in Seconds, Elapsed Since Shutdown (all values are powers of 10)') \n",
    "plt.ylabel('Power Generation Due to Beta and Gamma Rays') \n",
    "plt.rcParams[\"figure.figsize\"] = (8,8)\n",
    "plt.plot(x, y, color='red')\n",
    "plt.show()"
   ]
  },
  {
   "cell_type": "code",
   "execution_count": 215,
   "metadata": {},
   "outputs": [
    {
     "name": "stdout",
     "output_type": "stream",
     "text": [
      "5097960.395560197 is the energy of the neutron after scattering\n",
      "66.66783380018661 is the probability that E2 will have an energy in post collision energy range\n",
      "1306 is the average # of collisions of neutron to slow down to E2\n"
     ]
    }
   ],
   "source": [
    "from numpy import log as ln\n",
    "\n",
    "A = 238    #mass of the atom\n",
    "E1 = 90    #energy of neutron before impact\n",
    "scatteringAngle = 45    #angle of scattering\n",
    "\n",
    "def E2(A,E1,scatteringAngle):\n",
    "    if scatteringAngle==0:\n",
    "        print('There was no collision')\n",
    "    else:\n",
    "        E2 = E1*((A**2)+(2*A*math.cos(scatteringAngle)+1)/((A+1)**2))\n",
    "        alpha = ((A-1)/(A+1))**2\n",
    "        P_E1_E2 = 1/((1-alpha)*E1)\n",
    "        Net_Quantity = 2/(A+(2/3))    #only when A > 10\n",
    "        N = ln(E1/E2)/Net_Quantity\n",
    "        print(E2,'is the energy of the neutron after scattering')\n",
    "        print(P_E1_E2*100, 'is the probability that E2 will have an energy in post collision energy range')\n",
    "        print(int(N)*-1, 'is the average # of collisions of neutron to slow down to E2')\n",
    "E2(A,E1,scatteringAngle)"
   ]
  },
  {
   "cell_type": "code",
   "execution_count": 322,
   "metadata": {},
   "outputs": [
    {
     "name": "stderr",
     "output_type": "stream",
     "text": [
      "C:\\Users\\Wallach Kids\\Anaconda3\\lib\\site-packages\\ipykernel_launcher.py:7: RuntimeWarning: divide by zero encountered in log\n",
      "  import sys\n",
      "C:\\Users\\Wallach Kids\\Anaconda3\\lib\\site-packages\\ipykernel_launcher.py:7: RuntimeWarning: invalid value encountered in double_scalars\n",
      "  import sys\n"
     ]
    },
    {
     "data": {
      "image/png": "[encoded data removed]",
      "text/plain": [
       "<Figure size 576x576 with 1 Axes>"
      ]
     },
     "metadata": {
      "needs_background": "light"
     },
     "output_type": "display_data"
    }
   ],
   "source": [
    "y1 = []\n",
    "y2 = []\n",
    "A=1\n",
    "for i in range(100):\n",
    "    alpha = ((A-1)/(A+1))**2\n",
    "    y1.append(alpha)\n",
    "    Net_Quant = 1+(alpha/(1-alpha))*ln(alpha)\n",
    "    y2.append(Net_Quant)\n",
    "    A+=1\n",
    "plt.title('Average Logarithmic Energy Loss and Collision Perameter Alpha') \n",
    "plt.xlabel('Mass Number (A)')\n",
    "plt.rcParams[\"figure.figsize\"] = (8,8)\n",
    "plt.plot(y1, color = 'red')\n",
    "plt.plot(y2, color = 'blue')\n",
    "plt.show()"
   ]
  },
  {
   "cell_type": "code",
   "execution_count": 330,
   "metadata": {},
   "outputs": [
    {
     "name": "stdout",
     "output_type": "stream",
     "text": [
      "0.01\n",
      "8.355454791266818e-66\n"
     ]
    }
   ],
   "source": [
    "from scipy.constants import Planck,e\n",
    "import numpy as np\n",
    "from numpy import pi\n",
    "import math\n",
    "#Singlet scattering cross section\n",
    "M = 1.6726    #mass of a nucleon\n",
    "E = float(input())    #energy of the relative motion in a lab setting (MeV)\n",
    "h = Planck/(2*pi)\n",
    "k = ((M*E)/(h**2))**(1/2)    #wave number\n",
    "a_s = -1*(2.43*(10**-12))    #scattering length in the singlet spin state\n",
    "a = 1000    #scattering length\n",
    "n = e**2/(h*E)\n",
    "C= math.sqrt((2*pi*E)/(math.exp(2*pi/E)-1))\n",
    "u_0 = C*(r-a)\n",
    "v_0 = 1-(r/a)\n",
    "r_0s = 0\n",
    "singlet_scattering_cross_section = (4*pi)*((((a_s**-1)-((1/2)*r_0s*(k**2)))**2)+(k**2))**-1\n",
    "print(singlet_scattering_cross_section)"
   ]
  },
  {
   "cell_type": "code",
   "execution_count": 336,
   "metadata": {},
   "outputs": [
    {
     "name": "stdout",
     "output_type": "stream",
     "text": [
      "Energy (below 8)0.01\n",
      "The Neutron-Proton cross section is 2.450947228175513e-147\n"
     ]
    }
   ],
   "source": [
    "#Cross section of Proton-Neutron scattering cross section\n",
    "E = float(input('Energy (below 8)'))\n",
    "M = 1.6726    #mass of a nucleon\n",
    "h = Planck/(2*pi)\n",
    "k = ((M*E)/(h**2))**(1/2)    #wave number\n",
    "R = 4.31*(10**-13)    #Decay Length/size of the Deutron\n",
    "a_s = 2.378*(10**-12)    #scattering length in the singlet spin state\n",
    "a = 0.1    #scattering length\n",
    "n = e**2/(h*E)\n",
    "C= math.sqrt((2*pi*E)/(math.exp(2*pi/E)-1))\n",
    "u_0 = C*(r-a)\n",
    "v_0 = 1-(r/a)\n",
    "r_0 = 2*((((v_0**2)-(u_0**2))*10000)-(((v_0**2)-(u_0**2))*0))#I approximated infinity as 10000 (no I'm not an engineer)\n",
    "proNeu_scattering = (4*pi)/(((k**2)+(R**-2))*(1-(r_0/R)+(((1/4)*r_0**2)*((k**2)+(R**-1)))))\n",
    "print('The Neutron-Proton cross section is',proNeu_scattering)"
   ]
  },
  {
   "cell_type": "code",
   "execution_count": 283,
   "metadata": {},
   "outputs": [
    {
     "name": "stdout",
     "output_type": "stream",
     "text": [
      "2.2915278500099595e-51\n"
     ]
    }
   ],
   "source": [
    "#zero energy neutrons cross section\n",
    "sigma = 4*pi*R*((a-(r_0/(2*R)))**-2)\n",
    "print(sigma)\n",
    "#answer should be around 2.33*10^-24"
   ]
  },
  {
   "cell_type": "code",
   "execution_count": 337,
   "metadata": {},
   "outputs": [
    {
     "data": {
      "image/png": "[encoded data removed]",
      "text/plain": [
       "<Figure size 576x576 with 1 Axes>"
      ]
     },
     "metadata": {
      "needs_background": "light"
     },
     "output_type": "display_data"
    }
   ],
   "source": [
    "x = []\n",
    "y = []\n",
    "E = 1    #energy\n",
    "for i in range(7):\n",
    "    M = 1.6726    #mass of a nucleon\n",
    "    h = Planck/(2*pi)\n",
    "    k = ((M*E)/(h**2))**(1/2)    #wave number\n",
    "    R = 4.31*(10**-13)    #Decay Length/size of the Deutron\n",
    "    a_s = 2.378*(10**-12)    #scattering length in the singlet spin state\n",
    "    a = 0.1    #scattering length\n",
    "    n = e**2/(h*E)\n",
    "    C= math.sqrt((2*pi*E)/(math.exp(2*pi/E)-1))\n",
    "    u_0 = C*(r-a)\n",
    "    v_0 = 1-(r/a)\n",
    "    r_0 = 2*((((v_0**2)-(u_0**2))*10000)-(((v_0**2)-(u_0**2))*0))#I approximated infinity as 10000 (no I'm not an engineer)\n",
    "    proNeu_scattering = (4*pi)/(((k**2)+(R**-2))*(1-(r_0/R)+(((1/4)*r_0**2)*((k**2)+(R**-1)))))\n",
    "    y.append(proNeu_scattering)\n",
    "    x.append(E)\n",
    "    E += 1\n",
    "plt.title('Proton-Neutron Cross section') \n",
    "plt.ylabel('Proton-Neutron Cross section (barns)') \n",
    "plt.xlabel('Energy (MeV)') \n",
    "plt.rcParams[\"figure.figsize\"] = (8,8)\n",
    "plt.plot(x,y, color = 'red')\n",
    "plt.show()"
   ]
  },
  {
   "cell_type": "code",
   "execution_count": 366,
   "metadata": {},
   "outputs": [
    {
     "name": "stdout",
     "output_type": "stream",
     "text": [
      "For a bound singlet state: 7.728820582655468e-23\n",
      "For a virtual singlet state: 7.131554949988987e-24\n"
     ]
    }
   ],
   "source": [
    "#parahydrogen cross section\n",
    "f = 1.86*(10**-12)\n",
    "sigma = (4/((3/2)**2))*4*pi*(f**2)\n",
    "print('For a bound singlet state:',sigma)\n",
    "f = -0.565*(10**-12)\n",
    "sigma = (4/((3/2)**2))*4*pi*(f**2)\n",
    "print('For a virtual singlet state:',sigma)"
   ]
  },
  {
   "cell_type": "code",
   "execution_count": 375,
   "metadata": {},
   "outputs": [
    {
     "name": "stdout",
     "output_type": "stream",
     "text": [
      "0.9545838906187212\n"
     ]
    }
   ],
   "source": [
    "v=10000000000000000\n",
    "C2= (2*pi*(e/(h*v)))/(math.exp(2*pi/(e/(h*E))-1))    #Coulomb penetration factor\n",
    "print(2*pi*(e/(h*v)))"
   ]
  }
 ],
 "metadata": {
  "kernelspec": {
   "display_name": "Python 3",
   "language": "python",
   "name": "python3"
  },
  "language_info": {
   "codemirror_mode": {
    "name": "ipython",
    "version": 3
   },
   "file_extension": ".py",
   "mimetype": "text/x-python",
   "name": "python",
   "nbconvert_exporter": "python",
   "pygments_lexer": "ipython3",
   "version": "3.7.4"
  }
 },
 "nbformat": 4,
 "nbformat_minor": 4
}
