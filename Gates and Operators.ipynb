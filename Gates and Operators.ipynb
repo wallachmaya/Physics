{
 "cells": [
  {
   "cell_type": "markdown",
   "metadata": {},
   "source": [
    "# Quantum Computing Gates"
   ]
  },
  {
   "cell_type": "markdown",
   "metadata": {},
   "source": [
    "## Unary Operators"
   ]
  },
  {
   "cell_type": "markdown",
   "metadata": {},
   "source": [
    "(1,0) is state |0) <br>\n",
    "(0,1) is state |1)"
   ]
  },
  {
   "cell_type": "markdown",
   "metadata": {},
   "source": [
    "The X operator simply flips the qubit to a different state"
   ]
  },
  {
   "cell_type": "code",
   "execution_count": 1,
   "metadata": {},
   "outputs": [
    {
     "name": "stdout",
     "output_type": "stream",
     "text": [
      "The qubit went from state |0) to state |1)\n"
     ]
    }
   ],
   "source": [
    "#X operator\n",
    "qBit = [1,0]\n",
    "Xgate = [[0,1],[1,0]]\n",
    "finalState = [(Xgate[0][0]*qBit[0])+(Xgate[1][0]*qBit[1]),(Xgate[0][1]*qBit[0])+(Xgate[1][1]*qBit[1])]\n",
    "if qBit==[0,1] and finalState==[1, 0]:\n",
    "    print('The qubit went from state |1) to state |0)')\n",
    "else:\n",
    "    print('The qubit went from state |0) to state |1)')"
   ]
  },
  {
   "cell_type": "markdown",
   "metadata": {},
   "source": [
    "The Y operator rotates the statevector along the Y axis"
   ]
  },
  {
   "cell_type": "code",
   "execution_count": 2,
   "metadata": {},
   "outputs": [
    {
     "name": "stdout",
     "output_type": "stream",
     "text": [
      "The qubit went from state |1) to state -i|0)\n"
     ]
    }
   ],
   "source": [
    "#Y operator\n",
    "qBit = [0,1]\n",
    "Ygate = [[0,-1j],[1j,0]]    #To represent imaginary numbers in python is j instead of i\n",
    "finalState = [(Ygate[0][0]*qBit[0])+(Ygate[1][0]*qBit[1]),(Ygate[0][1]*qBit[0])+(Ygate[1][1]*qBit[1])]\n",
    "if qBit==[0,1] and finalState==[1j, 0j]:\n",
    "    print('The qubit went from state |1) to state -i|0)')\n",
    "else:\n",
    "    print('The qubit went from state |0) to state -i|1)')"
   ]
  },
  {
   "cell_type": "markdown",
   "metadata": {},
   "source": [
    "The Z operator rotates the statevector along the Z axis (flips it by 180 degrees or π radians)"
   ]
  },
  {
   "cell_type": "code",
   "execution_count": 3,
   "metadata": {},
   "outputs": [
    {
     "name": "stdout",
     "output_type": "stream",
     "text": [
      "The qubit went from state |0) to state -|1)\n"
     ]
    }
   ],
   "source": [
    "#Z operator\n",
    "qBit = [1,0]\n",
    "Zgate = [[1,0],[0,-1]]\n",
    "finalState = [(Zgate[0][0]*qBit[0])+(Zgate[1][0]*qBit[1]),(Zgate[0][1]*qBit[0])+(Zgate[1][1]*qBit[1])]\n",
    "if finalState==[0,-1]:\n",
    "    j=0\n",
    "    finalState = [((-1)**j)*j,1]\n",
    "    print('The qubit went from state |1) to state |0)')\n",
    "elif finalState==[1, 0]:\n",
    "    j=1\n",
    "    finalState = [((-1)**j)*j,0]\n",
    "    print('The qubit went from state |0) to state -|1)')"
   ]
  },
  {
   "cell_type": "markdown",
   "metadata": {},
   "source": [
    "The Hadamard gate is very important because it can take a qubit in |0) or |1) into superposition."
   ]
  },
  {
   "cell_type": "code",
   "execution_count": 4,
   "metadata": {},
   "outputs": [
    {
     "name": "stdout",
     "output_type": "stream",
     "text": [
      "The qubit went from state |0) to state |0)+|1)/√2\n"
     ]
    }
   ],
   "source": [
    "#Hadamard Gate\n",
    "qBit = [1,0]\n",
    "H = [[1,1],[1,-1]]\n",
    "finalState = [(H[0][0]*qBit[0])+(H[1][0]*qBit[1]),(H[0][1]*qBit[0])+(H[1][1]*qBit[1])]\n",
    "if finalState == [1,1]:\n",
    "    print('The qubit went from state |0) to state |0)+|1)/√2')\n",
    "else:\n",
    "    print('The qubit went from state |1) to state |0)-|1)/√2')"
   ]
  },
  {
   "cell_type": "markdown",
   "metadata": {},
   "source": [
    "## Binary Operators"
   ]
  },
  {
   "cell_type": "markdown",
   "metadata": {},
   "source": [
    "(1,0,0,0) is state |00) <br>\n",
    "(0,1,0,0) is state |01) <br>\n",
    "(0,0,1,0) is state |10) <br>\n",
    "(0,0,0,1) is state |11) <br>"
   ]
  },
  {
   "cell_type": "markdown",
   "metadata": {},
   "source": [
    "SWAP takes the states |10) and |01) and flips the digits, like |01) flips to |10)."
   ]
  },
  {
   "cell_type": "code",
   "execution_count": 5,
   "metadata": {},
   "outputs": [
    {
     "name": "stdout",
     "output_type": "stream",
     "text": [
      "The resulting state is |01)\n"
     ]
    }
   ],
   "source": [
    "#SWAP operator\n",
    "q = [0,0,1,0]\n",
    "SWAP = [[1,0,0,0],[0,0,1,0],[0,1,0,0],[0,0,0,1]]\n",
    "o = SWAP[0][0]*q[0]+SWAP[1][0]*q[1]+SWAP[2][0]*q[2]+SWAP[3][0]*q[3]\n",
    "t = SWAP[0][1]*q[0]+SWAP[1][1]*q[1]+SWAP[2][1]*q[2]+SWAP[3][1]*q[3]\n",
    "th = SWAP[0][2]*q[0]+SWAP[1][2]*q[1]+SWAP[2][2]*q[2]+SWAP[3][2]*q[3]\n",
    "f = SWAP[0][3]*q[0]+SWAP[1][3]*q[1]+SWAP[2][3]*q[2]+SWAP[3][3]*q[3]\n",
    "finalState = [o,t,th,f]\n",
    "if finalState==[1,0,0,0]:\n",
    "    print('The resulting state is |00)')\n",
    "elif finalState==[0,1,0,0]:\n",
    "    print('The resulting state is |01)')\n",
    "elif finalState==[0,0,1,0]:\n",
    "    print('The resulting state is |10)')\n",
    "else:\n",
    "    print('The resulting state is |11)')"
   ]
  },
  {
   "cell_type": "markdown",
   "metadata": {},
   "source": [
    "CNOT entagles 2 qubits"
   ]
  },
  {
   "cell_type": "code",
   "execution_count": 6,
   "metadata": {},
   "outputs": [
    {
     "name": "stdout",
     "output_type": "stream",
     "text": [
      "The resulting state is |11)\n"
     ]
    }
   ],
   "source": [
    "#CNOT operator\n",
    "q = [0,0,1,0]\n",
    "CNOT = [[1,0,0,0],[0,1,0,0],[0,0,0,1],[0,0,1,0]]\n",
    "o = CNOT[0][0]*q[0]+CNOT[1][0]*q[1]+CNOT[2][0]*q[2]+CNOT[3][0]*q[3]\n",
    "t = CNOT[0][1]*q[0]+CNOT[1][1]*q[1]+CNOT[2][1]*q[2]+CNOT[3][1]*q[3]\n",
    "th = CNOT[0][2]*q[0]+CNOT[1][2]*q[1]+CNOT[2][2]*q[2]+CNOT[3][2]*q[3]\n",
    "f = CNOT[0][3]*q[0]+CNOT[1][3]*q[1]+CNOT[2][3]*q[2]+CNOT[3][3]*q[3]\n",
    "finalState = [o,t,th,f]\n",
    "if finalState==[1,0,0,0]:\n",
    "    print('The resulting state is |00)')\n",
    "elif finalState==[0,1,0,0]:\n",
    "    print('The resulting state is |01)')\n",
    "elif finalState==[0,0,1,0]:\n",
    "    print('The resulting state is |10)')\n",
    "else:\n",
    "    print('The resulting state is |11)')"
   ]
  },
  {
   "cell_type": "markdown",
   "metadata": {},
   "source": [
    "The CZ operator is like the CNOT operator but you apply the Z operator to the target qubit."
   ]
  },
  {
   "cell_type": "code",
   "execution_count": 7,
   "metadata": {},
   "outputs": [
    {
     "name": "stdout",
     "output_type": "stream",
     "text": [
      "The resulting state is |10)\n"
     ]
    }
   ],
   "source": [
    "#CZ operator\n",
    "q = [0,0,1,0]\n",
    "CZ = [[1,0,0,0],[0,1,0,0],[0,0,1,0],[0,0,0,-1]]\n",
    "o = CZ[0][0]*q[0]+CZ[1][0]*q[1]+CZ[2][0]*q[2]+CZ[3][0]*q[3]\n",
    "t = CZ[0][1]*q[0]+CZ[1][1]*q[1]+CZ[2][1]*q[2]+CZ[3][1]*q[3]\n",
    "th = CZ[0][2]*q[0]+CZ[1][2]*q[1]+CZ[2][2]*q[2]+CZ[3][2]*q[3]\n",
    "f = CZ[0][3]*q[0]+CZ[1][3]*q[1]+CZ[2][3]*q[2]+CZ[3][3]*q[3]\n",
    "finalState = [o,t,th,f]\n",
    "if finalState==[1,0,0,0]:\n",
    "    print('The resulting state is |00)')\n",
    "elif finalState==[0,1,0,0]:\n",
    "    print('The resulting state is |01)')\n",
    "elif finalState==[0,0,1,0]:\n",
    "    print('The resulting state is |10)')\n",
    "else:\n",
    "    print('The resulting state is |11)')"
   ]
  },
  {
   "cell_type": "markdown",
   "metadata": {},
   "source": [
    "## Ternary Operators"
   ]
  },
  {
   "cell_type": "markdown",
   "metadata": {},
   "source": [
    "(0 0 0 0 0 0 0 1) is |111) <br>\n",
    "(0 0 0 0 0 0 1 0) is |110) <br>\n",
    "(0 0 0 0 0 1 0 0) is |101) <br>"
   ]
  },
  {
   "cell_type": "markdown",
   "metadata": {},
   "source": [
    "The Toffoli Operator uses the first 2 digits in the state (both have to be 1) to make the next one. Can be described as xyz -> \n",
    "(x,y,(z OR xy))"
   ]
  },
  {
   "cell_type": "code",
   "execution_count": 8,
   "metadata": {},
   "outputs": [
    {
     "name": "stdout",
     "output_type": "stream",
     "text": [
      "[0 0 0 0 0 0 1 0]\n"
     ]
    }
   ],
   "source": [
    "#Toffoli Operator\n",
    "import numpy as np\n",
    "foli = np.array([[1,0,0,0,0,0,0,0],[0,1,0,0,0,0,0,0],[0,0,1,0,0,0,0,0],[0,0,0,1,0,0,0,0],[0,0,0,0,1,0,0,0],[0,0,0,0,0,1,0,0],[0,0,0,0,0,0,0,1],[0,0,0,0,0,0,1,0]])\n",
    "qBit = np.array([0,0,0,0,0,0,0,1])\n",
    "finalState = foli.dot(qBit)\n",
    "print(finalState)"
   ]
  },
  {
   "cell_type": "markdown",
   "metadata": {},
   "source": [
    "The Franklin Gate uses the first digit of the state to determine if it will do anything or not. If the first digit is 0 then the state stays the same, but when the digit is 1 then the the 2nd and 3rd digits switch places. For example, a qubit in the |110) state would go into the |101) state."
   ]
  },
  {
   "cell_type": "code",
   "execution_count": 9,
   "metadata": {},
   "outputs": [
    {
     "name": "stdout",
     "output_type": "stream",
     "text": [
      "[0 0 0 0 0 1 0 0]\n"
     ]
    }
   ],
   "source": [
    "#Franklin Gate\n",
    "frank = np.array([[1,0,0,0,0,0,0,0],[0,1,0,0,0,0,0,0],[0,0,1,0,0,0,0,0],[0,0,0,1,0,0,0,0],[0,0,0,0,1,0,0,0],[0,0,0,0,0,0,1,0],[0,0,0,0,0,1,0,0],[0,0,0,0,0,0,0,1]])\n",
    "qBit = np.array([0,0,0,0,0,0,1,0])\n",
    "finalState = frank.dot(qBit)\n",
    "print(finalState)"
   ]
  },
  {
   "cell_type": "markdown",
   "metadata": {},
   "source": [
    "Here we will use Qiskit and IBMQ to simulate how measurement gate works. In Quantum mechanics if you measure something then the properties of that thing can change. In this example you have a 50/50 chance of being in state |11) or |00). The only reason why is isn't exactly 50/50 in the graph is because of noise."
   ]
  },
  {
   "cell_type": "code",
   "execution_count": 10,
   "metadata": {},
   "outputs": [
    {
     "name": "stderr",
     "output_type": "stream",
     "text": [
      "Credentials already present. Set overwrite=True to overwrite.\n",
      "C:\\Users\\Wallach Kids\\Anaconda3\\lib\\site-packages\\qiskit\\providers\\models\\backendconfiguration.py:337: UserWarning: `dt` and `dtm` now have units of seconds(s) rather than nanoseconds(ns).\n",
      "  warnings.warn('`dt` and `dtm` now have units of seconds(s) rather '\n"
     ]
    },
    {
     "data": {
      "text/plain": [
       "[<AccountProvider for IBMQ(hub='ibm-q', group='open', project='main')>]"
      ]
     },
     "execution_count": 10,
     "metadata": {},
     "output_type": "execute_result"
    }
   ],
   "source": [
    "import qiskit as q\n",
    "from qiskit import(\n",
    "  QuantumCircuit,\n",
    "  execute)\n",
    "from qiskit import IBMQ\n",
    "from qiskit import QuantumCircuit, QuantumRegister, ClassicalRegister\n",
    "%matplotlib inline\n",
    "IBMQ.save_account(open(\"tokenOrKey.txt\",'r').read())\n",
    "IBMQ.load_account()\n",
    "IBMQ.providers()"
   ]
  },
  {
   "cell_type": "code",
   "execution_count": 11,
   "metadata": {},
   "outputs": [
    {
     "data": {
      "image/png": "[encoded data removed]",
      "text/plain": [
       "<Figure size 479.192x204.68 with 1 Axes>"
      ]
     },
     "execution_count": 11,
     "metadata": {},
     "output_type": "execute_result"
    }
   ],
   "source": [
    "cir=q.QuantumCircuit(2)\n",
    "\n",
    "cir.h(0)\n",
    "\n",
    "cir.cnot(0,1)\n",
    "\n",
    "cir.measure_all()\n",
    "\n",
    "cir.draw(output=\"mpl\")"
   ]
  },
  {
   "cell_type": "code",
   "execution_count": 12,
   "metadata": {},
   "outputs": [
    {
     "name": "stdout",
     "output_type": "stream",
     "text": [
      "ibmq_qasm_simulator there are 2 qubits being run and has simulated qubits\n",
      "ibmqx2 there are 2 qubits being run and has 5 qubits\n",
      "ibmq_16_melbourne there are 36 qubits being run and has 15 qubits\n",
      "ibmq_vigo there are 11 qubits being run and has 5 qubits\n",
      "ibmq_ourense there are 9 qubits being run and has 5 qubits\n",
      "ibmq_london there are 7 qubits being run and has 5 qubits\n",
      "ibmq_burlington there are 5 qubits being run and has 5 qubits\n",
      "ibmq_essex there are 6 qubits being run and has 5 qubits\n",
      "ibmq_armonk there are 57 qubits being run and has 1 qubits\n"
     ]
    }
   ],
   "source": [
    "provider = IBMQ.get_provider(\"ibm-q\")\n",
    "\n",
    "for backend in provider.backends():\n",
    "    try:\n",
    "        qubit_count = len(backend.properties().qubits)\n",
    "    except:\n",
    "        qubit_count = \"simulated\"\n",
    "    print(f\"{backend.name()} there are {backend.status().pending_jobs} qubits being run and has {qubit_count} qubits\")"
   ]
  },
  {
   "cell_type": "code",
   "execution_count": 13,
   "metadata": {},
   "outputs": [
    {
     "name": "stdout",
     "output_type": "stream",
     "text": [
      "Job Status: job has successfully run\n"
     ]
    }
   ],
   "source": [
    "from qiskit.tools.monitor import job_monitor\n",
    "\n",
    "backend = provider.get_backend(\"ibmq_qasm_simulator\")\n",
    "job=q.execute(cir, backend=backend, shots=500)\n",
    "job_monitor(job)"
   ]
  },
  {
   "cell_type": "code",
   "execution_count": 14,
   "metadata": {},
   "outputs": [
    {
     "data": {
      "image/png": "[encoded data removed]",
      "text/plain": [
       "<Figure size 504x360 with 1 Axes>"
      ]
     },
     "execution_count": 14,
     "metadata": {},
     "output_type": "execute_result"
    }
   ],
   "source": [
    "from qiskit.tools.visualization import plot_histogram\n",
    "result = job.result()\n",
    "counts = result.get_counts(cir)\n",
    "\n",
    "plot_histogram([counts])"
   ]
  }
 ],
 "metadata": {
  "kernelspec": {
   "display_name": "Python 3",
   "language": "python",
   "name": "python3"
  },
  "language_info": {
   "codemirror_mode": {
    "name": "ipython",
    "version": 3
   },
   "file_extension": ".py",
   "mimetype": "text/x-python",
   "name": "python",
   "nbconvert_exporter": "python",
   "pygments_lexer": "ipython3",
   "version": "3.7.4"
  }
 },
 "nbformat": 4,
 "nbformat_minor": 4
}
