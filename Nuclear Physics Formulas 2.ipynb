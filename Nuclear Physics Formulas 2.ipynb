{
 "cells": [
  {
   "cell_type": "markdown",
   "metadata": {},
   "source": [
    "# Another set of Nuclear Physics equations"
   ]
  },
  {
   "cell_type": "code",
   "execution_count": 2,
   "metadata": {},
   "outputs": [],
   "source": [
    "from scipy.constants import Planck\n",
    "import math\n",
    "import numpy as np"
   ]
  },
  {
   "cell_type": "markdown",
   "metadata": {},
   "source": [
    "Radioactive decay is the process in which an unstable nucleus spontaneously loses energy by emitting ionizing particles\n",
    "and radiation. This decay, or loss of energy, results in an atom of one type, called the parent nuclide, transforming\n",
    "to an atom of a different type, named the daughter nuclide. The code below shows the decay constant, mean lifetime (lifetime of the atoms), and half life (lifetime of half of the atoms)"
   ]
  },
  {
   "cell_type": "code",
   "execution_count": 4,
   "metadata": {},
   "outputs": [
    {
     "name": "stdout",
     "output_type": "stream",
     "text": [
      "The half life is: -20.79441541679836\n",
      "The mean lifetime is: -30.0\n",
      "The decay constant is: -0.03333333333333333\n"
     ]
    }
   ],
   "source": [
    "N = 3    #Number of radioactive nuclei\n",
    "t = 30    #amount of time\n",
    "def lifetimes(N, t):\n",
    "    Lambda = -1*((N/t)/N)\n",
    "    meanLifetime = 1/Lambda\n",
    "    halfLife = np.log(2)/Lambda\n",
    "    print('The half life is:',halfLife)\n",
    "    print('The mean lifetime is:',meanLifetime)\n",
    "    print('The decay constant is:',Lambda)\n",
    "lifetimes(N, t)"
   ]
  },
  {
   "cell_type": "markdown",
   "metadata": {},
   "source": [
    "A common situation occurs when the daughter nuclide is also radioactive. Then we have a chain of radioactive decays,\n",
    "\n",
    "each governed by their decay laws. For example, a chain N1 → N2 → N3. The code below shows the decay for the whole chain."
   ]
  },
  {
   "cell_type": "code",
   "execution_count": 20,
   "metadata": {},
   "outputs": [
    {
     "name": "stdout",
     "output_type": "stream",
     "text": [
      "The decay of N_1 and N_3 is -2.0\n"
     ]
    }
   ],
   "source": [
    "#Finding the decay of a decay chain\n",
    "N = 3\n",
    "t = 30\n",
    "def decay_chain(N, t):\n",
    "    Lambda = -1*((N/t)/N)\n",
    "    dN_1 = (-1*Lambda)*N*t\n",
    "    N_ = N-1\n",
    "    Lambda2 = -1*((1/t)/1)\n",
    "    dN_2 = (Lambda*N*t)-(Lambda2*1*t)\n",
    "    print('The decay of N_1 and N_{} is {}'.format(N, dN_2))\n",
    "decay_chain(N,t)"
   ]
  },
  {
   "cell_type": "code",
   "execution_count": 12,
   "metadata": {},
   "outputs": [
    {
     "data": {
      "text/plain": [
       "8897676269494528.0"
      ]
     },
     "execution_count": 12,
     "metadata": {},
     "output_type": "execute_result"
    }
   ],
   "source": [
    "from scipy.constants import speed_of_light\n",
    "M = 12 #mass of the atom (amu)\n",
    "Z = 6   #atomic number\n",
    "N = 6    #amount of neutrons\n",
    "A = N+Z    #mass number\n",
    "m_h = 1.0078    #mass of a H-1 atom (amu)\n",
    "M_p = 1.0072765    #mass of a proton\n",
    "m_n = 1.0087    #mass of a neutron\n",
    "\n",
    "#Mass defect\n",
    "def mass_defect(M, Z, N, A, m_h, m_n):\n",
    "    firstPart = Z*m_h\n",
    "    secPart = (A - Z)*m_n\n",
    "    delta = firstPart + secPart - M\n",
    "    return(delta)\n",
    "mass_defect(M, Z, N, A, m_h, m_n)\n",
    "\n",
    "#atomic weights\n",
    "def atomic_weights(Z, M_p, M_n, A, delta):\n",
    "    firstPart = Z*M_p\n",
    "    secPart = A - Z\n",
    "    thirdPart = M_n * secPart\n",
    "    m_nucl = firstPart+thirdPart-delta\n",
    "    return(m_nucl)\n",
    "atomic_weights(Z, M_p, m_n, A, mass_defect(M, Z, N, A, m_h, m_n))\n",
    "\n",
    "#binding energy\n",
    "power = 10**8\n",
    "c = speed_of_light    #speed of light in a vacuum\n",
    "m_nucl = atomic_weights(Z, M_p, m_n, A, mass_defect(M, Z, N, A, m_h, m_n))\n",
    "U = (c**2)*m_nucl    #total energy of the nucleus\n",
    "def binding_E(Z, m_p, c, A, m_n, U):\n",
    "    B = (Z*m_p*(c**2))+((A-Z)*m_n*(c**2))-U\n",
    "    return(B)\n",
    "binding_E(Z, M_p, c, A, m_n, U)"
   ]
  },
  {
   "cell_type": "markdown",
   "metadata": {},
   "source": [
    "In analyzing a radioactive decay (or any nuclear reaction) an important quantity is Q, the net energy released in the\n",
    "2 decay. When Q > 0 energy is released in the nuclear reaction, while for Q < 0 we need to provide energy to make the\n",
    "reaction happen. As in chemistry, we expect the first reaction to be a spontaneous reaction, while the second one\n",
    "does not happen in nature without intervention. (The first reaction is exo-energetic the second endo-energetic)."
   ]
  },
  {
   "cell_type": "code",
   "execution_count": 17,
   "metadata": {},
   "outputs": [
    {
     "name": "stdout",
     "output_type": "stream",
     "text": [
      "The net energy released in the decay is -1.2341130911099462e+19\n",
      "Energy was provided to make this reaction happen\n"
     ]
    }
   ],
   "source": [
    "#Finding the net energy released in the decay (Q)\n",
    "Z = 88\n",
    "N = 138\n",
    "A = Z+N    #has to be above 200\n",
    "M = 226\n",
    "def Q_alpha(Z,A,N,M):\n",
    "    M_p = 938.280/(c**2)    #mass of a proton(MeV)\n",
    "    m_n = 938.573/(c**2)    #mass of a neutron(MeV)\n",
    "    \n",
    "    m_nucl = atomic_weights(Z, M_p, m_n, A, mass_defect(M, Z, N, A, m_h, m_n))\n",
    "    U = (c**2)*m_nucl    #total energy of the nucleus\n",
    "    B1 = binding_E(Z, M_p, c, A, m_n, U)\n",
    "    \n",
    "    m_nucl2 = atomic_weights(Z-2, M_p, m_n, A-4, mass_defect(M-4, Z-2, N-2, A-4, m_h, m_n))\n",
    "    U2 = (c**2)*m_nucl    #total energy of the nucleus\n",
    "    B2 = binding_E(Z-2, M_p, c, A-4, m_n, U)\n",
    "    \n",
    "    He_m_nucl = atomic_weights(2, M_p, m_n, 4, mass_defect(4, 2, 2, 4, m_h, m_n))\n",
    "    U_He = (c**2)*m_nucl    #total energy of the nucleus\n",
    "    He = binding_E(Z, M_p, c, A, m_n, U)\n",
    "    \n",
    "    Q = B2 - B1 + He\n",
    "    return(Q)\n",
    "\n",
    "Q = Q_alpha(Z,A,N,M)\n",
    "\n",
    "if Q > 0:\n",
    "        print('The net energy released in the decay is',Q)\n",
    "        print('Energy was released from this reaction')\n",
    "else:\n",
    "    print('The net energy released in the decay is',Q)\n",
    "    print('Energy was provided to make this reaction happen')"
   ]
  },
  {
   "cell_type": "markdown",
   "metadata": {},
   "source": [
    "The beta decay is a radioactive decay in which a proton in a nucleus is converted into a neutron (or vice-versa).\n",
    "Thus A is constant, but Z and N change by 1. In the process the nucleus emits a beta particle (either an electron\n",
    "or a positron) and quasi-massless particle, the neutrino. Positive beta decay results in 1 more neutron and 1 less proton with a neutrino and positron. Negitive beta decay results in 1 more proton and 1 less neutron with an antineutrino and electron."
   ]
  },
  {
   "cell_type": "code",
   "execution_count": 18,
   "metadata": {},
   "outputs": [
    {
     "data": {
      "text/plain": [
       "-1.3645588671294096e+17"
      ]
     },
     "execution_count": 18,
     "metadata": {},
     "output_type": "execute_result"
    }
   ],
   "source": [
    "#The Q value of a beta decay is given by the usual formula:\n",
    "\n",
    "M_p = 1.0072765    #mass of a proton\n",
    "m_n = 1.0087    #mass of a neutron\n",
    "m_e = 0.511    #mass of a electron\n",
    "Z = 12\n",
    "N = 12\n",
    "A = N + Z\n",
    "c = speed_of_light\n",
    "\n",
    "def Q_beta(M_p, m_n, Z, N, A):\n",
    "    m_N = (Z*M_p)+(N*m_n)\n",
    "    m_M2 = ((Z+1)*M_p)+(N*m_n)\n",
    "    Q=(c**2)*(m_N-m_M2-m_e)\n",
    "    return(Q)\n",
    "Q_beta(M_p, m_n, Z, N, A)"
   ]
  },
  {
   "cell_type": "markdown",
   "metadata": {},
   "source": [
    "In gamma decay the nuclide is unchanged, but it goes from an excited to a lower energy state. The reaction is written as: \n",
    "X* → X' + γ (the star is used to represent an excited state)"
   ]
  },
  {
   "cell_type": "markdown",
   "metadata": {},
   "source": [
    "The relative intensities of the competing decays are called branching ratios.\n",
    "Branching ratios are expressed as percentage or sometimes as partial half-lives. For example, if a nucleus can decay\n",
    "by beta decay (and other modes) with a branching ration bβ, the partial half-life for the beta decay is λβ = bβλ."
   ]
  },
  {
   "cell_type": "markdown",
   "metadata": {},
   "source": [
    "## Spin Operator"
   ]
  },
  {
   "cell_type": "markdown",
   "metadata": {},
   "source": [
    "Some rules:<br>\n",
    "1. The properties of a quantum system are completely defined by specification of its state vector |ψ). The state vector is an element of a complex Hilbert space H called the space of states.\n",
    "2. With every physical property A (energy, position, momentum, angular momentum, ...) there exists an associated linear, Hermitian operator A (usually called observable), which acts in the space of states H. The eigenvalues of the operator are the possible values of the physical properties.\n",
    "3. (a) If |ψ) is the vector representing the state of a system and if |ϕ) represents another physical state, there exists a probability p(|ψ), |ϕ)) of finding |ψ) in state |ϕ), which is given by the squared modulus of the inner product on H: p(|ψ), |ϕ)) = |(ψ|ϕ)|2 (Born Rule).\n",
    "3. (b) If A is an observable with eigenvalues an and eigenvectors |n) [such that the eigenvalue equation is A |n) = an |n)], given a system in the state |ψ), the probability of obtaining an as the outcome of the measurement of A is p(an) = |(n|ψ)|2. After the measurement the system is left in the state projected on the subspace of the eigenvalue an (Wave function collapse).\n",
    "4. The evolution of a closed system is unitary (reversible). The evolution is given by the time-dependent Schr¨odinger equation\n",
    "\n",
    "H|ψ)=ih*(∂|ψ)/∂t)<br>\n",
    "where H is the Hamiltonian of the system (the energy operator) and h is the reduced Planck constant h/2π<br>\n",
    "<br>\n",
    "Eigenvalues and eigenfunctions of an operator are defined as the solutions of the eigenvalue problem A[un(rx)] = an**un(x) (the x has an arrow on top)<br>\n",
    "where n = 1, 2, . . . indexes the possible solutions. The an are the eigenvalues of A (they are scalars) and un(rx) are\n",
    "the eigenfunctions"
   ]
  },
  {
   "cell_type": "code",
   "execution_count": 19,
   "metadata": {},
   "outputs": [
    {
     "name": "stdout",
     "output_type": "stream",
     "text": [
      "S_x:\n",
      " [0.0, 0.5] \n",
      " [0.5, 0.0] \n",
      "\n",
      "S_y:\n",
      " [0.0, (-0.5+0j)] \n",
      " [(0.5+0j), 0.0] \n",
      "\n",
      "S_z:\n",
      " [0.5, 0.0] \n",
      " [0.0, -0.5] \n",
      "\n"
     ]
    }
   ],
   "source": [
    "#Spin operator\n",
    "matrix_x = [[0,1],[1,0]]\n",
    "matrix_y = [[0, complex(-1)],[complex(1), 0]]\n",
    "matrix_z = [[1,0],[0,-1]]\n",
    "def S(matrix_x, matrix_y, matrix_z):\n",
    "    S_x = [[matrix_x[0][0]*(1/2),matrix_x[0][1]*(1/2)],[matrix_x[1][0]*(1/2),matrix_x[1][1]*(1/2)]]\n",
    "    S_y = [[matrix_y[0][0]*(1/2),matrix_y[0][1]*(1/2)],[matrix_y[1][0]*(1/2),matrix_y[1][1]*(1/2)]]\n",
    "    S_z = [[matrix_z[0][0]*(1/2),matrix_z[0][1]*(1/2)],[matrix_z[1][0]*(1/2),matrix_z[1][1]*(1/2)]]\n",
    "    print('S_x:')\n",
    "    print('',S_x[0],'\\n',S_x[1],'\\n')\n",
    "    print('S_y:')\n",
    "    print('',S_y[0],'\\n',S_y[1],'\\n')\n",
    "    print('S_z:')\n",
    "    print('',S_z[0],'\\n',S_z[1],'\\n')\n",
    "S(matrix_x, matrix_y, matrix_z)"
   ]
  },
  {
   "cell_type": "code",
   "execution_count": null,
   "metadata": {},
   "outputs": [],
   "source": []
  },
  {
   "cell_type": "code",
   "execution_count": null,
   "metadata": {},
   "outputs": [],
   "source": []
  }
 ],
 "metadata": {
  "kernelspec": {
   "display_name": "Python 3",
   "language": "python",
   "name": "python3"
  },
  "language_info": {
   "codemirror_mode": {
    "name": "ipython",
    "version": 3
   },
   "file_extension": ".py",
   "mimetype": "text/x-python",
   "name": "python",
   "nbconvert_exporter": "python",
   "pygments_lexer": "ipython3",
   "version": "3.7.4"
  }
 },
 "nbformat": 4,
 "nbformat_minor": 4
}
