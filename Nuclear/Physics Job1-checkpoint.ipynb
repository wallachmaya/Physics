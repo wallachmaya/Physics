{
 "cells": [
  {
   "cell_type": "markdown",
   "metadata": {},
   "source": [
    "# Calculating Nucleon Energy Levels"
   ]
  },
  {
   "cell_type": "code",
   "execution_count": 1,
   "metadata": {},
   "outputs": [],
   "source": [
    "import matplotlib.pyplot as plt\n",
    "import math\n",
    "from scipy.constants import pi, e, epsilon_0"
   ]
  },
  {
   "cell_type": "code",
   "execution_count": 2,
   "metadata": {},
   "outputs": [],
   "source": [
    "def quantNum_l(l_):\n",
    "    if l_ == 0:\n",
    "        return('s')\n",
    "    elif l_ == 1:\n",
    "        return('p')\n",
    "    elif l_ == 2:\n",
    "        return('d')\n",
    "    elif l_ == 3:\n",
    "        return('f')\n",
    "    elif l_ == 4:\n",
    "        return('g')\n",
    "    elif l_ == 5:\n",
    "        return('h')"
   ]
  },
  {
   "cell_type": "markdown",
   "metadata": {},
   "source": [
    "The code below calculates the energy $E$ using the quantum numbers $l$ and $n$ where <br/> $E = (N + \\frac{3}{2})\\hbar\\omega$. <br/> $N$ is realted to $l$ and $n$ by <br/> $N = 2(n-1)+l$. "
   ]
  },
  {
   "cell_type": "code",
   "execution_count": 3,
   "metadata": {
    "scrolled": true
   },
   "outputs": [
    {
     "name": "stdout",
     "output_type": "stream",
     "text": [
      "| n | l | N  | E(hw)\n",
      "| 1 | s | 0  | 1.5\n",
      "| 2 | s | 2  | 3.5\n",
      "| 2 | p | 3  | 4.5\n",
      "| 3 | s | 4  | 5.5\n",
      "| 3 | p | 5  | 6.5\n",
      "| 3 | d | 6  | 7.5\n",
      "| 4 | s | 6  | 7.5\n",
      "| 4 | p | 7  | 8.5\n",
      "| 4 | d | 8  | 9.5\n",
      "| 4 | f | 9  | 10.5\n",
      "| 5 | s | 8  | 9.5\n",
      "| 5 | p | 9  | 10.5\n",
      "| 5 | d | 10 | 11.5\n",
      "| 5 | f | 11 | 12.5\n",
      "| 5 | g | 12 | 13.5\n"
     ]
    }
   ],
   "source": [
    "l = [0,0,1,0,1,2,0,1,2,3,0,1,2,3,4]\n",
    "n = [1,2,2,3,3,3,4,4,4,4,5,5,5,5,5]\n",
    "j = 0\n",
    "E_a = []\n",
    "N_a = []\n",
    "l_a = []\n",
    "\n",
    "print('|','n','|','l','|','N',' | E(hw)')\n",
    "for i in range(len(l)):\n",
    "    l_ = l[i]\n",
    "    n_ = n[i]\n",
    "    N = 2*(n_-1) + l_\n",
    "    N_a.append(N)\n",
    "    E = (N + (3/2))\n",
    "    E_a.append(E)\n",
    "    if N < 10:\n",
    "        print('|',n_,'|', quantNum_l(l_),'|',N,'','|',E)\n",
    "    else:\n",
    "        print('|',n_,'|',quantNum_l(l_),'|',N,'|',E)\n",
    "    l_a.append(quantNum_l(l_))\n",
    "    j +=1"
   ]
  },
  {
   "cell_type": "code",
   "execution_count": 4,
   "metadata": {},
   "outputs": [
    {
     "data": {
      "image/png": "[encoded data removed]",
      "text/plain": [
       "<Figure size 432x288 with 1 Axes>"
      ]
     },
     "metadata": {
      "needs_background": "light"
     },
     "output_type": "display_data"
    }
   ],
   "source": [
    "fig, ax = plt.subplots()\n",
    "ax.scatter(n, E_a)\n",
    "\n",
    "ax.set_xlabel('n')\n",
    "ax.set_ylabel('E')\n",
    "\n",
    "for i, txt in enumerate(l_a):\n",
    "    ax.annotate(txt, (n[i], E_a[i]))"
   ]
  },
  {
   "cell_type": "code",
   "execution_count": 5,
   "metadata": {},
   "outputs": [
    {
     "data": {
      "image/png": "[encoded data removed]",
      "text/plain": [
       "<Figure size 432x288 with 1 Axes>"
      ]
     },
     "metadata": {
      "needs_background": "light"
     },
     "output_type": "display_data"
    }
   ],
   "source": [
    "fig, ax = plt.subplots()\n",
    "ax.scatter(l, E_a)\n",
    "\n",
    "ax.set_xlabel('l')\n",
    "ax.set_ylabel('E')\n",
    "\n",
    "for i, txt in enumerate(n):\n",
    "    ax.annotate(txt, (l[i], E_a[i]))"
   ]
  },
  {
   "cell_type": "code",
   "execution_count": 6,
   "metadata": {},
   "outputs": [
    {
     "data": {
      "text/plain": [
       "Text(0, 0.5, 'delta_E')"
      ]
     },
     "execution_count": 6,
     "metadata": {},
     "output_type": "execute_result"
    },
    {
     "data": {
      "image/png": "[encoded data removed]",
      "text/plain": [
       "<Figure size 432x288 with 1 Axes>"
      ]
     },
     "metadata": {
      "needs_background": "light"
     },
     "output_type": "display_data"
    }
   ],
   "source": [
    "E_ = []\n",
    "la = []\n",
    "\n",
    "l = 0\n",
    "a = 4.27\n",
    "V_0 = 1/(4*pi*epsilon_0) * (-e)/1\n",
    "R = (1.2)*(12)**(1/3)\n",
    "Vcent = (-V_0)/(1 + (2.7)**(0-R)/a)\n",
    "times = 0\n",
    "for i in range(21):\n",
    "    if i % 2 ==0 or i == 0:\n",
    "        j = l + 0.5\n",
    "        ls = l/2\n",
    "        Vls = Vcent*ls\n",
    "        E_theta = ((2*l + 1)/2) * Vls * 1e7\n",
    "        la.append(l)\n",
    "        l += 1\n",
    "        times += 1\n",
    "    else:\n",
    "        j = l - 0.5\n",
    "        ls = -(l+1)/2\n",
    "        Vls = Vcent*ls\n",
    "        E_theta = ((2*l + 1)/2) * Vls * 1e7\n",
    "        la.append(l)\n",
    "        times += 1\n",
    "    E_.append(E_theta)\n",
    "fig, ax = plt.subplots()\n",
    "ax.scatter(la, E_)\n",
    "ax.set_xlabel('l')\n",
    "ax.set_ylabel('delta_E')"
   ]
  },
  {
   "cell_type": "code",
   "execution_count": 7,
   "metadata": {},
   "outputs": [],
   "source": [
    "l = [0,0,1,0,1,2,0,1,2,3,0,1,2,3,4,0,1,2,3,4,5]\n",
    "E_tot1 = []\n",
    "E_tot2 = []\n",
    "l_tot1 = []\n",
    "l_tot2 = []\n",
    "for i in range(len(E_a)):\n",
    "    l1 = l[i]\n",
    "    E1 = E_a[i]\n",
    "    ls = l1/2\n",
    "    Vls = Vcent*ls\n",
    "    E = E1 + (((2*l1 + 1)/2) * Vls * 1e7)\n",
    "    E_tot1.append(E)\n",
    "    l_tot1.append(l1)\n",
    "for j in range(len(E_a)):\n",
    "    l1 = l[j]\n",
    "    E2 = E_a[j]\n",
    "    ls = -(l1+1)/2\n",
    "    Vls = Vcent*ls\n",
    "    E = E2 + (((2*l1 + 1)/2) * Vls * 1e7)\n",
    "    E_tot2.append(E)\n",
    "    l_tot2.append(l1)"
   ]
  },
  {
   "cell_type": "code",
   "execution_count": 8,
   "metadata": {},
   "outputs": [
    {
     "data": {
      "image/png": "[encoded data removed]",
      "text/plain": [
       "<Figure size 432x288 with 1 Axes>"
      ]
     },
     "metadata": {
      "needs_background": "light"
     },
     "output_type": "display_data"
    }
   ],
   "source": [
    "ax.set_xlabel('l')\n",
    "ax.set_ylabel('delta_E')\n",
    "\n",
    "plt.scatter(l_tot1, E_tot1)\n",
    "plt.scatter(l_tot2, E_tot2)\n",
    "plt.show()"
   ]
  },
  {
   "cell_type": "code",
   "execution_count": null,
   "metadata": {},
   "outputs": [],
   "source": []
  },
  {
   "cell_type": "code",
   "execution_count": 74,
   "metadata": {},
   "outputs": [
    {
     "name": "stdout",
     "output_type": "stream",
     "text": [
      "\n",
      "\n",
      "\n",
      "\n",
      "\n"
     ]
    }
   ],
   "source": []
  },
  {
   "cell_type": "code",
   "execution_count": null,
   "metadata": {},
   "outputs": [],
   "source": []
  },
  {
   "cell_type": "code",
   "execution_count": null,
   "metadata": {},
   "outputs": [],
   "source": []
  }
 ],
 "metadata": {
  "kernelspec": {
   "display_name": "Python 3",
   "language": "python",
   "name": "python3"
  },
  "language_info": {
   "codemirror_mode": {
    "name": "ipython",
    "version": 3
   },
   "file_extension": ".py",
   "mimetype": "text/x-python",
   "name": "python",
   "nbconvert_exporter": "python",
   "pygments_lexer": "ipython3",
   "version": "3.8.5"
  }
 },
 "nbformat": 4,
 "nbformat_minor": 4
}
