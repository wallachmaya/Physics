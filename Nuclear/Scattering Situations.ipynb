{
 "cells": [
  {
   "cell_type": "code",
   "execution_count": 68,
   "metadata": {},
   "outputs": [],
   "source": [
    "import math\n",
    "import matplotlib.pyplot as plt\n",
    "from scipy.constants import pi, e, epsilon_0, hbar, h"
   ]
  },
  {
   "cell_type": "markdown",
   "metadata": {},
   "source": [
    "# Resonance Scattering"
   ]
  },
  {
   "cell_type": "markdown",
   "metadata": {},
   "source": [
    "A resonance is a peak in differental scattering cross section around a certian energy. That certian energy is (a bit obviously) called resonance energy, $E_{R}$. Cross section is given by the Breit-Wigner formula. In that equation there is a quantity called the \"Decay length\" this is represented by $\\Gamma = \\frac{\\hbar}{\\tau}$ where $\\hbar = \\frac{h}{2\\pi}$ and $\\tau$ is the mean lifetime of the particle. At $E = E_{R}$, the amplitude of the wavefunction is high and the probability of finding that scattered particle in the well is very high."
   ]
  },
  {
   "cell_type": "markdown",
   "metadata": {},
   "source": [
    "The code below shows the Breit-Wigner formula applied using information about mesons. This formula is $\\sigma_{res} = \\frac{4\\pi}{k^{2}}(2l*1)\\frac{\\Gamma^{2}(E_{R})/4}{(E-E_{R})^{2} + \\Gamma^{2}(E_{R})/4}$ <br/>\n",
    "\n",
    "The $\\tau$ of the mesons is around $2.6*10^{-8}s$ and the $E_{R}$ is about $2.5*10^{-8}$"
   ]
  },
  {
   "cell_type": "code",
   "execution_count": 81,
   "metadata": {},
   "outputs": [
    {
     "data": {
      "text/plain": [
       "[<matplotlib.lines.Line2D at 0x1f6846f6280>]"
      ]
     },
     "execution_count": 81,
     "metadata": {},
     "output_type": "execute_result"
    },
    {
     "data": {
      "image/png": "[encoded data removed]",
      "text/plain": [
       "<Figure size 432x288 with 1 Axes>"
      ]
     },
     "metadata": {
      "needs_background": "light"
     },
     "output_type": "display_data"
    }
   ],
   "source": [
    "l0 = 0\n",
    "l1 = 1\n",
    "l2 = 2\n",
    "cross1 = []\n",
    "cross2 = []\n",
    "cross0 = []\n",
    "E_a = []\n",
    "lifetime = 2.6e-8\n",
    "Er = 2.5e-8\n",
    "E = 2.4e-8\n",
    "for i in range(20):\n",
    "    k = math.sqrt(E*2*2.5e-28) / h\n",
    "    T2 = (hbar/lifetime)**2\n",
    "    cross_res1 = ((4*pi)/(k**2))*(2*l1 + 1)*((T2/4)/(((E-Er)**2)+((T2/4)**2)))    #in barns\n",
    "    cross_res2 = ((4*pi)/(k**2))*(2*l2 + 1)*((T2/4)/(((E-Er)**2)+((T2/4)**2)))    #in barns\n",
    "    cross_res0 = ((4*pi)/(k**2))*(2*l0 + 1)*((T2/4)/(((E-Er)**2)+((T2/4)**2)))    #in barns\n",
    "    cross1.append(cross_res1)\n",
    "    cross2.append(cross_res2)\n",
    "    cross0.append(cross_res0)\n",
    "    E_a.append(E)\n",
    "    E += 0.01e-8\n",
    "plt.plot(E_a,cross1)\n",
    "plt.plot(E_a,cross2)\n",
    "plt.plot(E_a,cross0)"
   ]
  },
  {
   "cell_type": "markdown",
   "metadata": {},
   "source": [
    "This next code will show the phase shift of resonance scattering. But what is a phase shift and what does that have to do with scattering? This concept is defined by the partial scattering amplitude: $f_{l}(k) = \\frac{e^{i\\delta_{l}}}{k}$. But, the value of $\\delta_{0}$ comes from the scattering length, $a_{0}$. Where $a_{0} = -\\lim_{k\\to0}\\frac{1}{k}\\tan(\\delta_{0})$. But let's get away from resonance and think about cross sections in general. $\\sigma_{l} = \\frac{4\\pi}{k^{2}}(2l*1)\\sin^{2}(\\delta_{0})$. This is very similar to the Breit-Wigner formula, except for the exclusion of $\\sin(\\delta_{0})$, but we can probably derive that. <br/> <br/>\n",
    "By definition, in resonance $\\delta_{0}(E_{0}) = \\frac{\\pi}{2}$<br/>\n",
    "$\\sin^{2}(\\delta_{0}) = \\frac{\\Gamma^{2}(E_{R})/4}{(E-E_{R})^{2} + \\Gamma^{2}(E_{R})/4}$ <br/>\n",
    "Using math, we find: <br/>\n",
    "$\\sin(\\delta_{0}) = \\frac{\\Gamma/2}{(E-E_{R})+\\Gamma/2}$ <br/>\n",
    "This makes sense because at resonance, $\\delta_{0} = \\frac{\\pi}{2}$ and $\\sin(\\frac{\\pi}{2}) = 1$. Also at resonance, $E_{R} = E$ which would make $\\frac{\\Gamma/2}{(E-E_{R})+\\Gamma/2} = 1$. <br/>\n",
    "But keep in mind, this equation works best the closer you are to the resonance."
   ]
  },
  {
   "cell_type": "code",
   "execution_count": 88,
   "metadata": {},
   "outputs": [
    {
     "data": {
      "text/plain": [
       "[<matplotlib.lines.Line2D at 0x1f684952a90>]"
      ]
     },
     "execution_count": 88,
     "metadata": {},
     "output_type": "execute_result"
    },
    {
     "data": {
      "image/png": "[encoded data removed]",
      "text/plain": [
       "<Figure size 432x288 with 1 Axes>"
      ]
     },
     "metadata": {
      "needs_background": "light"
     },
     "output_type": "display_data"
    }
   ],
   "source": [
    "sindel = []\n",
    "E_a = []\n",
    "lifetime = 2.6e-8\n",
    "Er = 2.5e-8\n",
    "E = 2.4e-8\n",
    "for i in range(20):\n",
    "    k = math.sqrt(E*2*2.5e-28) / h\n",
    "    T = hbar/lifetime\n",
    "    sin_del = (T/2)/((Er-E)+(T/2))\n",
    "    sindel.append(sin_del)\n",
    "    E_a.append(E)\n",
    "    E += 0.01e-8\n",
    "plt.plot(E_a,sindel)"
   ]
  },
  {
   "cell_type": "markdown",
   "metadata": {},
   "source": [
    "# Hard Sphere Scattering"
   ]
  },
  {
   "cell_type": "code",
   "execution_count": null,
   "metadata": {},
   "outputs": [],
   "source": []
  }
 ],
 "metadata": {
  "kernelspec": {
   "display_name": "Python 3",
   "language": "python",
   "name": "python3"
  },
  "language_info": {
   "codemirror_mode": {
    "name": "ipython",
    "version": 3
   },
   "file_extension": ".py",
   "mimetype": "text/x-python",
   "name": "python",
   "nbconvert_exporter": "python",
   "pygments_lexer": "ipython3",
   "version": "3.8.5"
  }
 },
 "nbformat": 4,
 "nbformat_minor": 4
}
