{
 "cells": [
  {
   "cell_type": "markdown",
   "metadata": {},
   "source": [
    "# A set of Nuclear Physics formulas"
   ]
  },
  {
   "cell_type": "markdown",
   "metadata": {},
   "source": [
    "Net current is the sum of all currents (in this case we are finding it using the intensity of each current)"
   ]
  },
  {
   "cell_type": "code",
   "execution_count": 3,
   "metadata": {},
   "outputs": [
    {
     "data": {
      "text/plain": [
       "-0.7071067811865476"
      ]
     },
     "execution_count": 3,
     "metadata": {},
     "output_type": "execute_result"
    }
   ],
   "source": [
    "#Finding net current using intensity(flux)\n",
    "import math\n",
    "def net_current(flux1,flux2):\n",
    "    a = math.pi / 4\n",
    "    tenpower=10**0\n",
    "    flux1*=tenpower\n",
    "    flux2*=tenpower\n",
    "    negi=flux2*math.cos(a)\n",
    "    posi=flux1*math.cos(a)\n",
    "    netCurr=posi-negi\n",
    "    return(netCurr)\n",
    "net_current(1,2)"
   ]
  },
  {
   "cell_type": "markdown",
   "metadata": {},
   "source": [
    "Total Flux is the sum of all fluxes (intensities)"
   ]
  },
  {
   "cell_type": "code",
   "execution_count": 4,
   "metadata": {},
   "outputs": [
    {
     "name": "stdout",
     "output_type": "stream",
     "text": [
      "3*10^0 n/cm*s\n"
     ]
    }
   ],
   "source": [
    "#Calculating the total flux\n",
    "def total_flux(flux1, flux2):\n",
    "    totalFlux=flux1+flux2\n",
    "    print('{}*10^0 n/cm*s'.format(totalFlux))\n",
    "total_flux(1,2)"
   ]
  },
  {
   "cell_type": "markdown",
   "metadata": {},
   "source": [
    "The current vector is the integral/sum of fluxes with the direction vector"
   ]
  },
  {
   "cell_type": "code",
   "execution_count": 5,
   "metadata": {},
   "outputs": [
    {
     "name": "stdout",
     "output_type": "stream",
     "text": [
      "√5 or 2.24*10^0 n/cm*s\n"
     ]
    }
   ],
   "source": [
    "#Calculating the current vector at point 0\n",
    "def current_vector(flux1, flux2):\n",
    "    x1=(flux2**flux2)+(flux1**flux1)\n",
    "    sym='√'\n",
    "    x=round(math.sqrt(x1), 2)\n",
    "    print('{}{} or {}*10^0 n/cm*s'.format(sym,x1,x))\n",
    "current_vector(1,2)"
   ]
  },
  {
   "cell_type": "markdown",
   "metadata": {},
   "source": [
    "Cross section is the measure of probability that a specific process will take place in a collision of two particles"
   ]
  },
  {
   "cell_type": "code",
   "execution_count": 6,
   "metadata": {},
   "outputs": [
    {
     "name": "stdout",
     "output_type": "stream",
     "text": [
      "Cross section : 0.232 b\n"
     ]
    }
   ],
   "source": [
    "#Variable declaration\n",
    "t = 10**-5; # Thickness of Li(3,7), m\n",
    "d = 500; # Density, Kg/m^3\n",
    "N = 6.023e+026; # Number of  nuclei in 7-Kg of Li-7\n",
    "M = 7 ; # Molar mass of Li\n",
    "\n",
    "#Calculations\n",
    "n = d*N*t/M; # Number of Li(3,7) nuclei/area\n",
    "N_p = 10**8; # Number of neutron produced/s\n",
    "N_0 = 10**13; # Number of incident particle striking/unit area of target\n",
    "C_s = N_p/(N_0*n*10**(-28)); #  Cross section, b\n",
    "\n",
    "#Result\n",
    "print (\"Cross section : %5.3f b\"%C_s)"
   ]
  },
  {
   "cell_type": "markdown",
   "metadata": {},
   "source": [
    "Atomic weight is the mass of all natural isotopes in an atom"
   ]
  },
  {
   "cell_type": "code",
   "execution_count": 31,
   "metadata": {},
   "outputs": [
    {
     "data": {
      "text/plain": [
       "11.996858999999999"
      ]
     },
     "execution_count": 31,
     "metadata": {},
     "output_type": "execute_result"
    }
   ],
   "source": [
    "#finding atomic weights in amu\n",
    "\n",
    "#declaration of variables:\n",
    "Z = 6    #atomic number\n",
    "M_p = 1.0072765    #mass of a proton (amu)\n",
    "m_n = 1.0086654    #mas of a neutron (amu)\n",
    "N = 6    #amount of neutrons\n",
    "A = N+Z    #mass number\n",
    "delta = mass_defect(M, Z, N, A, m_h, m_n)    #mass defect\n",
    "\n",
    "def atomic_weights(Z, M_p, M_n, A, delta):\n",
    "    firstPart = Z*M_p\n",
    "    secPart = A - Z\n",
    "    thirdPart = M_n * secPart\n",
    "    m_nucl = firstPart+thirdPart-delta\n",
    "    return(m_nucl)\n",
    "atomic_weights(Z, M_p, m_n, A, delta)"
   ]
  },
  {
   "cell_type": "markdown",
   "metadata": {},
   "source": [
    "Binding Energy is the minimum energy that would be required to disassemble its nucleus"
   ]
  },
  {
   "cell_type": "code",
   "execution_count": 29,
   "metadata": {},
   "outputs": [
    {
     "data": {
      "text/plain": [
       "9.953334329824806e+16"
      ]
     },
     "execution_count": 29,
     "metadata": {},
     "output_type": "execute_result"
    }
   ],
   "source": [
    "#finding total binding energy (B) of a nucleus\n",
    "\n",
    "#declaration of variables:\n",
    "power = 10**8\n",
    "Z = 6   #atomic number\n",
    "c = 2.99792458*power    #speed of light in a vacuum\n",
    "M_p = 1.0072765    #mass of a proton (amu)\n",
    "N = 6    #amount of neutrons\n",
    "A = N+Z    #mass number\n",
    "m_n = 1.0086654    #mass of a neutron (amu)\n",
    "m_nucl = atomic_weights(Z, M_p, m_n, A, delta)\n",
    "U = (c**2)*m_nucl    #total energy of the nucleus\n",
    "\n",
    "def binding_E(Z, m_p, c, A, m_n, U):\n",
    "    B = (Z*m_p*(c**2))+((A-Z)*m_n*(c**2))-U\n",
    "    return(B)\n",
    "binding_E(Z, M_p, c, A, m_n, U)"
   ]
  },
  {
   "cell_type": "markdown",
   "metadata": {},
   "source": [
    "Binding fraction is the binding energy per nuclear particle"
   ]
  },
  {
   "cell_type": "code",
   "execution_count": 9,
   "metadata": {},
   "outputs": [
    {
     "data": {
      "text/plain": [
       "1.4979252978946954e+16"
      ]
     },
     "execution_count": 9,
     "metadata": {},
     "output_type": "execute_result"
    }
   ],
   "source": [
    "#Calculating the binding fraction (total binding energy per nuclear particle)\n",
    "\n",
    "#declaration of variables:\n",
    "B = binding_E(Z, M_p, c, A, m_n, U)    #total binding energy\n",
    "A = N+Z    #mass number\n",
    "\n",
    "def binding_frac(B, A):\n",
    "    binding_frac=B/A\n",
    "    return(binding_frac)\n",
    "binding_frac(B, A)"
   ]
  },
  {
   "cell_type": "markdown",
   "metadata": {},
   "source": [
    "Mass defect is the difference between the mass of an isotope and its mass number"
   ]
  },
  {
   "cell_type": "code",
   "execution_count": 30,
   "metadata": {},
   "outputs": [
    {
     "data": {
      "text/plain": [
       "0.0990000000000002"
      ]
     },
     "execution_count": 30,
     "metadata": {},
     "output_type": "execute_result"
    }
   ],
   "source": [
    "#Finding the mass defect (delta)\n",
    "\n",
    "#declaration of variables:\n",
    "M = 12 #mass of the atom (amu)\n",
    "Z = 6   #atomic number\n",
    "N = 6    #amount of neutrons\n",
    "A = N+Z    #mass number\n",
    "m_h = 1.0078    #mass of a H-1 atom (amu)\n",
    "m_n = 1.0087    #mass of a neutron\n",
    "\n",
    "def mass_defect(M, Z, N, A, m_h, m_n):\n",
    "    firstPart = Z*m_h\n",
    "    secPart = (A - Z)*m_n\n",
    "    delta = firstPart + secPart - M\n",
    "    return(delta)\n",
    "mass_defect(M, Z, N, A, m_h, m_n)"
   ]
  },
  {
   "cell_type": "markdown",
   "metadata": {},
   "source": [
    "Separation energy is the amount of energy it takes to remove a particle from its nucleus"
   ]
  },
  {
   "cell_type": "code",
   "execution_count": 13,
   "metadata": {},
   "outputs": [
    {
     "data": {
      "text/plain": [
       "2.688477463084626e+17"
      ]
     },
     "execution_count": 13,
     "metadata": {},
     "output_type": "execute_result"
    }
   ],
   "source": [
    "#finding the separation energy of particles\n",
    "\n",
    "#declaration of variables:\n",
    "#declaration of variables:\n",
    "power = 10**8\n",
    "Z = 6   #atomic number\n",
    "c = 2.99792458*power    #speed of light in a vacuum\n",
    "M_p = 1.0072765    #mass of a proton (amu)\n",
    "N = 6    #amount of neutrons\n",
    "A = N+Z    #mass number\n",
    "m_n = 1.0086654    #mass of a neutron (amu)\n",
    "m_nucl = atomic_weights(Z, M_p, m_n, A, delta)\n",
    "U = (c**2)*m_nucl    #total energy of the nucleus\n",
    "amountNeu = 1    #amount of neutrons being separated\n",
    "amountPro = 0    #amount of protons being separated\n",
    "\n",
    "def separation_E(Z, m_p, c, A, m_n, U, amountNeu, amountPro):\n",
    "    B1 = binding_E(Z, m_p, c, A, m_n, U)\n",
    "    m_nucl = atomic_weights(Z-amountPro, M_p, m_n, A, delta)\n",
    "    U2 = (c**2)*m_nucl    #total energy of the nucleus\n",
    "    B2 = binding_E(Z-amountPro, m_p, c, A-(amountPro+amountNeu), m_n, U2)\n",
    "    sep_energy = B1+B2\n",
    "    return(sep_energy)\n",
    "separation_E(Z, M_p, c, A, m_n, U, amountNeu, amountPro)"
   ]
  },
  {
   "cell_type": "code",
   "execution_count": 68,
   "metadata": {},
   "outputs": [
    {
     "data": {
      "image/png": "[encoded data removed]",
      "text/plain": [
       "<Figure size 720x720 with 1 Axes>"
      ]
     },
     "metadata": {
      "needs_background": "light"
     },
     "output_type": "display_data"
    }
   ],
   "source": [
    "import numpy as np\n",
    "import matplotlib.pyplot as plt\n",
    "from scipy.constants import e, speed_of_light\n",
    "x = []\n",
    "y = []\n",
    "\n",
    "c = speed_of_light\n",
    "amountNeu = 1\n",
    "m_p = 1.0072765    #mass of a proton (amu)\n",
    "m_n = 1.0086654    #mass of a neutron (amu)\n",
    "m_nucl = atomic_weights(Z, m_p, m_n, A, mass_defect(M, Z, N, A, m_h, m_n))    #mass of the nucleus\n",
    "U = (c**2)*m_nucl    #total energy of the nucleus\n",
    "Z = 2\n",
    "A = Z*2\n",
    "for i in range(25):\n",
    "    m_nucl = atomic_weights(Z, M_p, m_n, A, mass_defect(M, Z, N, A, m_h, m_n))    #mass of the nucleus\n",
    "    U = (c**2)*m_nucl    #total energy of the nucleus\n",
    "    y.append(binding_E(Z, m_p, c, A, m_n, U))\n",
    "    x.append(A)\n",
    "    Z += 1\n",
    "    A = Z*2\n",
    "plt.title('Binding Energy by Mass Number') \n",
    "plt.ylabel('Binding Energy') \n",
    "plt.xlabel('Mass Number') \n",
    "plt.rcParams[\"figure.figsize\"] = (10,10)\n",
    "plt.plot(y, color = 'red')\n",
    "plt.show()"
   ]
  },
  {
   "cell_type": "code",
   "execution_count": 23,
   "metadata": {},
   "outputs": [
    {
     "data": {
      "text/plain": [
       "3.03692238165578"
      ]
     },
     "execution_count": 23,
     "metadata": {},
     "output_type": "execute_result"
    }
   ],
   "source": [
    "#Radius of a Nucleus\n",
    "\n",
    "#declaration of variables:\n",
    "r_0 = 1.46\n",
    "Z = 4   #atomic number\n",
    "N = 5    #amount of neutrons\n",
    "A = N+Z    #mass number\n",
    "\n",
    "def nucleus_R(r_0, A):\n",
    "    R = r_0*(A**(1/3))\n",
    "    return(R)\n",
    "nucleus_R(r_0, A)"
   ]
  },
  {
   "cell_type": "code",
   "execution_count": 18,
   "metadata": {},
   "outputs": [
    {
     "data": {
      "text/plain": [
       "2.688477463084626e+17"
      ]
     },
     "execution_count": 18,
     "metadata": {},
     "output_type": "execute_result"
    }
   ],
   "source": [
    "#separation energy of protons when Z = N\n",
    "from scipy.constants import e\n",
    "#declaration of variables:\n",
    "Z = 6   #atomic number\n",
    "N = 6    #amount of neutrons\n",
    "A = N+Z    #mass number\n",
    "S_v = separation_E(Z, M_p, c, A, m_n, U, 1, 0)    #neutron separation energy\n",
    "R = nucleus_R(r_0, A)    #Radius of a neutron\n",
    "e = e\n",
    "\n",
    "def separation_E_P(Z, R, e, S_v):\n",
    "    S_c = ((Z-1)*(e**2))/R\n",
    "    S_p = S_v - S_c\n",
    "    return(S_p)\n",
    "separation_E_P(Z, R, e, S_v)"
   ]
  },
  {
   "cell_type": "markdown",
   "metadata": {},
   "source": [
    "The Columb barrier is the energy barrier 2 particles have to overcome to do a nuclear reaction"
   ]
  },
  {
   "cell_type": "code",
   "execution_count": 22,
   "metadata": {},
   "outputs": [
    {
     "name": "stdout",
     "output_type": "stream",
     "text": [
      "Barrier height: 2.688477463084596e+17\n",
      "Neutron energy: -2.688477463084596e+17\n",
      "Proton energy: -2.688477463084596e+17\n"
     ]
    }
   ],
   "source": [
    "#Columb barrier description\n",
    "\n",
    "#declaration of variables:\n",
    "Z = 6\n",
    "R = 3.342565588255729\n",
    "S_p = 2.688477463084626e+17\n",
    "S_c = ((Z-1)*(e**2))/R\n",
    "S_n = 2.688477463084626e+17    #neutron separation energy\n",
    "Excit_E = 3000\n",
    "\n",
    "def columb_barrier_info(S_p, S_c, Excit_E, S_n):\n",
    "    B_height = (S_p + S_c) - Excit_E\n",
    "    Neu_E = Excit_E - S_n\n",
    "    Pro_E = Excit_E - S_p\n",
    "    print('Barrier height:',B_height)\n",
    "    print('Neutron energy:',Neu_E)\n",
    "    print('Proton energy:',Pro_E)\n",
    "columb_barrier_info(S_p, S_c, Excit_E, S_n)"
   ]
  },
  {
   "cell_type": "markdown",
   "metadata": {},
   "source": [
    "An alpha particle is 2 neutrons and 2 protons."
   ]
  },
  {
   "cell_type": "code",
   "execution_count": 24,
   "metadata": {},
   "outputs": [
    {
     "data": {
      "text/plain": [
       "-5.2591825868006886e+17"
      ]
     },
     "execution_count": 24,
     "metadata": {},
     "output_type": "execute_result"
    }
   ],
   "source": [
    "#separation energy for alpha particles (MeV) :\n",
    "\n",
    "#declaration of variables:\n",
    "Z = 6\n",
    "N = 7\n",
    "A = N+Z\n",
    "R_prime = 3.03692238165578\n",
    "e = e\n",
    "M_p = 1.0072765    #mass of a proton (amu)\n",
    "m_n = 1.0086654    #mass of a neutron (amu)\n",
    "delta = mass_defect(M, Z, N, A, m_h, m_n)\n",
    "m_nucl = atomic_weights(Z, M_p, m_n, A, delta)\n",
    "U = (c**2)*m_nucl    #total energy of the nucleus\n",
    "S_vAplha = separation_E(Z - 2, M_p, c, A - 4, m_n, U, 2, 2)\n",
    "\n",
    "def separation_E_Alpha(S_vAplha, e, R_prime, N, Z):\n",
    "    S_cALpha = (2*(Z-2)*(e**2))/R_prime\n",
    "    S_alpha = S_vAplha - S_cALpha\n",
    "    return(S_alpha)\n",
    "separation_E_Alpha(S_vAplha, e, R_prime, N, Z)"
   ]
  }
 ],
 "metadata": {
  "kernelspec": {
   "display_name": "Python 3",
   "language": "python",
   "name": "python3"
  },
  "language_info": {
   "codemirror_mode": {
    "name": "ipython",
    "version": 3
   },
   "file_extension": ".py",
   "mimetype": "text/x-python",
   "name": "python",
   "nbconvert_exporter": "python",
   "pygments_lexer": "ipython3",
   "version": "3.7.4"
  }
 },
 "nbformat": 4,
 "nbformat_minor": 2
}
