{
 "cells": [
  {
   "cell_type": "code",
   "execution_count": 1,
   "metadata": {},
   "outputs": [],
   "source": [
    "import math\n",
    "import matplotlib.pyplot as plt\n",
    "from scipy.constants import pi, e, epsilon_0, hbar, h, c"
   ]
  },
  {
   "cell_type": "code",
   "execution_count": 60,
   "metadata": {},
   "outputs": [],
   "source": [
    "#Hydrogen\n",
    "m_e = 0.5110   #MeV\n",
    "#p = math.sqrt(E**2 - m**2)\n",
    "\n",
    "Ev = 100\n",
    "p = math.sqrt(Ev**2 - m_e**2)\n",
    "M = 931.49432   #MeV\n",
    "Esc = []\n",
    "Q2 = []\n",
    "theta = []\n",
    "the = 0\n",
    "#for i in range(360):\n",
    "#    E1 = Ev / (1 + Ev/(M * (299792458)**2) * (1 - #math.cos(math.radians(the))))\n",
    "#    print(E1)\n",
    "#    theta.append(the)\n",
    "#    the+=1\n",
    "\n",
    "for i in range(360):\n",
    "    E1 = Ev / (1 + Ev/(M) * (1 - math.cos(math.radians(the))))\n",
    "    p1 = math.sqrt(E1**2 - m_e**2)\n",
    "    Q2_ = (Ev - E1)**2 + (p + p1)**2\n",
    "    theta.append(the)\n",
    "    Esc.append(E1)\n",
    "    Q2.append(Q2_)\n",
    "    the+=1"
   ]
  },
  {
   "cell_type": "code",
   "execution_count": 61,
   "metadata": {},
   "outputs": [],
   "source": [
    "#Carbon\n",
    "M = 931.49432*12   #MeV\n",
    "Esc_c = []\n",
    "Q2_c = []\n",
    "theta_c = []\n",
    "the = 0\n",
    "#for i in range(360):\n",
    "#    E1 = Ev / (1 + Ev/(M * (299792458)**2) * (1 - #math.cos(math.radians(the))))\n",
    "#    print(E1)\n",
    "#    theta.append(the)\n",
    "#    the+=1\n",
    "\n",
    "for i in range(360):\n",
    "    E1 = Ev / (1 + Ev/(M) * (1 - math.cos(math.radians(the))))\n",
    "    p1 = math.sqrt(E1**2 - m_e**2)\n",
    "    Q2_ = (Ev - E1)**2 + (p + p1)**2\n",
    "    theta_c.append(the)\n",
    "    Esc_c.append(E1)\n",
    "    Q2_c.append(Q2_)\n",
    "    the+=1"
   ]
  },
  {
   "cell_type": "code",
   "execution_count": 65,
   "metadata": {},
   "outputs": [],
   "source": [
    "#Oxygen\n",
    "M = 931.49432*15.994914   #MeV\n",
    "Esc_o = []\n",
    "Q2_o = []\n",
    "theta_o = []\n",
    "the = 0\n",
    "#for i in range(360):\n",
    "#    E1 = Ev / (1 + Ev/(M * (299792458)**2) * (1 - #math.cos(math.radians(the))))\n",
    "#    print(E1)\n",
    "#    theta.append(the)\n",
    "#    the+=1\n",
    "\n",
    "for i in range(360):\n",
    "    E1 = Ev / (1 + Ev/(M) * (1 - math.cos(math.radians(the))))\n",
    "    p1 = math.sqrt(E1**2 - m_e**2)\n",
    "    Q2_ = (Ev - E1)**2 + (p + p1)**2\n",
    "    theta_o.append(the)\n",
    "    Esc_o.append(E1)\n",
    "    Q2_o.append(Q2_)\n",
    "    the+=1"
   ]
  },
  {
   "cell_type": "code",
   "execution_count": 68,
   "metadata": {},
   "outputs": [
    {
     "data": {
      "image/png": "[encoded data removed]",
      "text/plain": [
       "<Figure size 432x288 with 2 Axes>"
      ]
     },
     "metadata": {
      "needs_background": "light"
     },
     "output_type": "display_data"
    }
   ],
   "source": [
    "#graphs 100 MeV\n",
    "\n",
    "figure, axis = plt.subplots(1,2)\n",
    "  \n",
    "# For Sine Function\n",
    "axis[0].plot(Q2, Esc)\n",
    "axis[0].plot(Q2_c,Esc_c)\n",
    "axis[0].plot(Q2_o,Esc_o)\n",
    "axis[0].set_title(\"100 MeV, Q2\")\n",
    "  \n",
    "# For Cosine Function\n",
    "axis[1].plot(theta, Esc)\n",
    "axis[1].plot(theta_c,Esc_c)\n",
    "axis[1].plot(theta_o,Esc_o)\n",
    "axis[1].set_title(\"100 MeV,theta\")\n",
    "  \n",
    "# Combine all the operations and display\n",
    "plt.show()"
   ]
  },
  {
   "cell_type": "code",
   "execution_count": 40,
   "metadata": {},
   "outputs": [],
   "source": [
    "#Hydrogen\n",
    "Ev_200 = 200\n",
    "p_200 = math.sqrt(Ev**2 - m_e**2)\n",
    "M = 931.49432   #MeV\n",
    "Esc_200 = []\n",
    "Q2_200 = []\n",
    "theta_200 = []\n",
    "the = 0\n",
    "#for i in range(360):\n",
    "#    E1 = Ev / (1 + Ev/(M * (299792458)**2) * (1 - #math.cos(math.radians(the))))\n",
    "#    print(E1)\n",
    "#    theta.append(the)\n",
    "#    the+=1\n",
    "\n",
    "for i in range(360):\n",
    "    E1 = Ev_200 / (1 + Ev_200/(M) * (1 - math.cos(math.radians(the))))\n",
    "    p1 = math.sqrt(E1**2 - m_e**2)\n",
    "    Q2_ = (Ev_200 - E1)**2 + (p_200 + p1)**2\n",
    "    theta_200.append(the)\n",
    "    Esc_200.append(E1)\n",
    "    Q2_200.append(Q2_)\n",
    "    the+=1"
   ]
  },
  {
   "cell_type": "code",
   "execution_count": 69,
   "metadata": {},
   "outputs": [],
   "source": [
    "#Carbon\n",
    "M = 931.49432*12   #MeV\n",
    "Esc_200_c = []\n",
    "Q2_200_c = []\n",
    "theta_200_c = []\n",
    "the = 0\n",
    "#for i in range(360):\n",
    "#    E1 = Ev / (1 + Ev/(M * (299792458)**2) * (1 - #math.cos(math.radians(the))))\n",
    "#    print(E1)\n",
    "#    theta.append(the)\n",
    "#    the+=1\n",
    "\n",
    "for i in range(360):\n",
    "    E1 = Ev_200 / (1 + Ev_200/(M) * (1 - math.cos(math.radians(the))))\n",
    "    p1 = math.sqrt(E1**2 - m_e**2)\n",
    "    Q2_ = (Ev_200 - E1)**2 + (p_200 + p1)**2\n",
    "    theta_200_c.append(the)\n",
    "    Esc_200_c.append(E1)\n",
    "    Q2_200_c.append(Q2_)\n",
    "    the+=1"
   ]
  },
  {
   "cell_type": "code",
   "execution_count": 71,
   "metadata": {},
   "outputs": [],
   "source": [
    "#Oxygen\n",
    "M = 931.49432*15.994914   #MeV\n",
    "Esc_200_o = []\n",
    "Q2_200_o = []\n",
    "theta_200_o = []\n",
    "the = 0\n",
    "#for i in range(360):\n",
    "#    E1 = Ev / (1 + Ev/(M * (299792458)**2) * (1 - #math.cos(math.radians(the))))\n",
    "#    print(E1)\n",
    "#    theta.append(the)\n",
    "#    the+=1\n",
    "\n",
    "for i in range(360):\n",
    "    E1 = Ev_200 / (1 + Ev_200/(M) * (1 - math.cos(math.radians(the))))\n",
    "    p1 = math.sqrt(E1**2 - m_e**2)\n",
    "    Q2_ = (Ev_200 - E1)**2 + (p_200 + p1)**2\n",
    "    theta_200_o.append(the)\n",
    "    Esc_200_o.append(E1)\n",
    "    Q2_200_o.append(Q2_)\n",
    "    the+=1"
   ]
  },
  {
   "cell_type": "code",
   "execution_count": 74,
   "metadata": {},
   "outputs": [
    {
     "data": {
      "image/png": "[encoded data removed]",
      "text/plain": [
       "<Figure size 432x288 with 2 Axes>"
      ]
     },
     "metadata": {
      "needs_background": "light"
     },
     "output_type": "display_data"
    }
   ],
   "source": [
    "#graphs 200 MeV\n",
    "\n",
    "figure, axis = plt.subplots(1,2)\n",
    "  \n",
    "# For Sine Function\n",
    "axis[0].plot(Q2_200, Esc_200)\n",
    "axis[0].plot(Q2_200_c, Esc_200_c)\n",
    "axis[0].plot(Q2_200_o, Esc_200_o)\n",
    "axis[0].set_title(\"200 MeV, Q2\")\n",
    "  \n",
    "# For Cosine Function\n",
    "axis[1].plot(theta_200, Esc_200)\n",
    "axis[1].plot(theta_200_c, Esc_200_c)\n",
    "axis[1].plot(theta_200_o, Esc_200_o)\n",
    "axis[1].set_title(\"200 MeV, theta\")\n",
    "  \n",
    "# Combine all the operations and display\n",
    "plt.show()"
   ]
  },
  {
   "cell_type": "code",
   "execution_count": 41,
   "metadata": {},
   "outputs": [],
   "source": [
    "#Hydrogen\n",
    "Ev_300 = 300\n",
    "p_300 = math.sqrt(Ev**2 - m_e**2)\n",
    "M = 931.49432   #MeV\n",
    "Esc_300 = []\n",
    "Q2_300 = []\n",
    "theta_300 = []\n",
    "the = 0\n",
    "#for i in range(360):\n",
    "#    E1 = Ev / (1 + Ev/(M * (299792458)**2) * (1 - #math.cos(math.radians(the))))\n",
    "#    print(E1)\n",
    "#    theta.append(the)\n",
    "#    the+=1\n",
    "\n",
    "for i in range(360):\n",
    "    E1 = Ev_300 / (1 + Ev_300/(M) * (1 - math.cos(math.radians(the))))\n",
    "    p1 = math.sqrt(E1**2 - m_e**2)\n",
    "    Q2_ = (Ev_300 - E1)**2 + (p_300 + p1)**2\n",
    "    theta_300.append(the)\n",
    "    Esc_300.append(E1)\n",
    "    Q2_300.append(Q2_)\n",
    "    the+=1"
   ]
  },
  {
   "cell_type": "code",
   "execution_count": 78,
   "metadata": {},
   "outputs": [],
   "source": [
    "#Carbon\n",
    "M = 931.49432*12   #MeV\n",
    "Esc_300_c = []\n",
    "Q2_300_c = []\n",
    "theta_300_c = []\n",
    "the = 0\n",
    "#for i in range(360):\n",
    "#    E1 = Ev / (1 + Ev/(M * (299792458)**2) * (1 - #math.cos(math.radians(the))))\n",
    "#    print(E1)\n",
    "#    theta.append(the)\n",
    "#    the+=1\n",
    "\n",
    "for i in range(360):\n",
    "    E1 = Ev_300 / (1 + Ev_300/(M) * (1 - math.cos(math.radians(the))))\n",
    "    p1 = math.sqrt(E1**2 - m_e**2)\n",
    "    Q2_ = (Ev_300 - E1)**2 + (p_200 + p1)**2\n",
    "    theta_300_c.append(the)\n",
    "    Esc_300_c.append(E1)\n",
    "    Q2_300_c.append(Q2_)\n",
    "    the+=1"
   ]
  },
  {
   "cell_type": "code",
   "execution_count": 76,
   "metadata": {},
   "outputs": [],
   "source": [
    "#Oxygen\n",
    "M = 931.49432*15.994914   #MeV\n",
    "Esc_300_o = []\n",
    "Q2_300_o = []\n",
    "theta_300_o = []\n",
    "the = 0\n",
    "#for i in range(360):\n",
    "#    E1 = Ev / (1 + Ev/(M * (299792458)**2) * (1 - #math.cos(math.radians(the))))\n",
    "#    print(E1)\n",
    "#    theta.append(the)\n",
    "#    the+=1\n",
    "\n",
    "for i in range(360):\n",
    "    E1 = Ev_300 / (1 + Ev_300/(M) * (1 - math.cos(math.radians(the))))\n",
    "    p1 = math.sqrt(E1**2 - m_e**2)\n",
    "    Q2_ = (Ev_300 - E1)**2 + (p_300 + p1)**2\n",
    "    theta_300_o.append(the)\n",
    "    Esc_300_o.append(E1)\n",
    "    Q2_300_o.append(Q2_)\n",
    "    the+=1"
   ]
  },
  {
   "cell_type": "code",
   "execution_count": 80,
   "metadata": {},
   "outputs": [
    {
     "data": {
      "image/png": "[encoded data removed]",
      "text/plain": [
       "<Figure size 432x288 with 2 Axes>"
      ]
     },
     "metadata": {
      "needs_background": "light"
     },
     "output_type": "display_data"
    }
   ],
   "source": [
    "#graphs 300 MeV\n",
    "\n",
    "figure, axis = plt.subplots(1,2)\n",
    "  \n",
    "# For Sine Function\n",
    "axis[0].plot(Q2_300, Esc_300)\n",
    "axis[0].plot(Q2_300_c, Esc_300_c)\n",
    "axis[0].plot(Q2_300_o, Esc_300_o)\n",
    "axis[0].set_title(\"300 MeV, Q2\")\n",
    "  \n",
    "# For Cosine Function\n",
    "axis[1].plot(theta_300, Esc_300)\n",
    "axis[1].plot(theta_300_c, Esc_300_c)\n",
    "axis[1].plot(theta_300_o, Esc_300_o)\n",
    "axis[1].set_title(\"300 MeV,theta\")\n",
    "  \n",
    "# Combine all the operations and display\n",
    "plt.show()"
   ]
  },
  {
   "cell_type": "code",
   "execution_count": 43,
   "metadata": {},
   "outputs": [],
   "source": [
    "#Hydrogen\n",
    "Ev_400 = 400\n",
    "p_400 = math.sqrt(Ev**2 - m_e**2)\n",
    "M = 931.49432   #MeV\n",
    "Esc_400 = []\n",
    "Q2_400 = []\n",
    "theta_400 = []\n",
    "the = 0\n",
    "#for i in range(360):\n",
    "#    E1 = Ev / (1 + Ev/(M * (299792458)**2) * (1 - #math.cos(math.radians(the))))\n",
    "#    print(E1)\n",
    "#    theta.append(the)\n",
    "#    the+=1\n",
    "\n",
    "for i in range(360):\n",
    "    E1 = Ev_400 / (1 + Ev_400/(M) * (1 - math.cos(math.radians(the))))\n",
    "    p1 = math.sqrt(E1**2 - m_e**2)\n",
    "    Q2_ = (Ev_400 - E1)**2 + (p_400 + p1)**2\n",
    "    theta_400.append(the)\n",
    "    Esc_400.append(E1)\n",
    "    Q2_400.append(Q2_)\n",
    "    the+=1"
   ]
  },
  {
   "cell_type": "code",
   "execution_count": 81,
   "metadata": {},
   "outputs": [],
   "source": [
    "#Carbon\n",
    "M = 931.49432*12   #MeV\n",
    "Esc_400_c = []\n",
    "Q2_400_c = []\n",
    "theta_400_c = []\n",
    "the = 0\n",
    "#for i in range(360):\n",
    "#    E1 = Ev / (1 + Ev/(M * (299792458)**2) * (1 - #math.cos(math.radians(the))))\n",
    "#    print(E1)\n",
    "#    theta.append(the)\n",
    "#    the+=1\n",
    "\n",
    "for i in range(360):\n",
    "    E1 = Ev_400 / (1 + Ev_400/(M) * (1 - math.cos(math.radians(the))))\n",
    "    p1 = math.sqrt(E1**2 - m_e**2)\n",
    "    Q2_ = (Ev_400 - E1)**2 + (p_400 + p1)**2\n",
    "    theta_400_c.append(the)\n",
    "    Esc_400_c.append(E1)\n",
    "    Q2_400_c.append(Q2_)\n",
    "    the+=1"
   ]
  },
  {
   "cell_type": "code",
   "execution_count": 82,
   "metadata": {},
   "outputs": [],
   "source": [
    "#Oxygen\n",
    "M = 931.49432*15.994914   #MeV\n",
    "Esc_400_o = []\n",
    "Q2_400_o = []\n",
    "theta_400_o = []\n",
    "the = 0\n",
    "#for i in range(360):\n",
    "#    E1 = Ev / (1 + Ev/(M * (299792458)**2) * (1 - #math.cos(math.radians(the))))\n",
    "#    print(E1)\n",
    "#    theta.append(the)\n",
    "#    the+=1\n",
    "\n",
    "for i in range(360):\n",
    "    E1 = Ev_400 / (1 + Ev_400/(M) * (1 - math.cos(math.radians(the))))\n",
    "    p1 = math.sqrt(E1**2 - m_e**2)\n",
    "    Q2_ = (Ev_400 - E1)**2 + (p_400 + p1)**2\n",
    "    theta_400_o.append(the)\n",
    "    Esc_400_o.append(E1)\n",
    "    Q2_400_o.append(Q2_)\n",
    "    the+=1"
   ]
  },
  {
   "cell_type": "code",
   "execution_count": 87,
   "metadata": {},
   "outputs": [
    {
     "data": {
      "image/png": "[encoded data removed]",
      "text/plain": [
       "<Figure size 432x288 with 2 Axes>"
      ]
     },
     "metadata": {
      "needs_background": "light"
     },
     "output_type": "display_data"
    }
   ],
   "source": [
    "#graphs 400 MeV\n",
    "\n",
    "figure, axis = plt.subplots(1,2)\n",
    "  \n",
    "# For Sine Function\n",
    "axis[0].plot(Q2_400, Esc_400)\n",
    "axis[0].plot(Q2_400_c, Esc_400_c)\n",
    "axis[0].plot(Q2_400_o, Esc_400_o)\n",
    "axis[0].set_title(\"400 MeV, Q2\")\n",
    "  \n",
    "# For Cosine Function\n",
    "axis[1].plot(theta_400, Esc_400)\n",
    "axis[1].plot(theta_400_c, Esc_400_c)\n",
    "axis[1].plot(theta_400_o, Esc_400_o)\n",
    "axis[1].set_title(\"400 MeV, theta\")\n",
    "  \n",
    "# Combine all the operations and display\n",
    "plt.show()"
   ]
  },
  {
   "cell_type": "code",
   "execution_count": 45,
   "metadata": {},
   "outputs": [],
   "source": [
    "#Hydrogen\n",
    "Ev_500 = 500\n",
    "p_500 = math.sqrt(Ev**2 - m_e**2)\n",
    "M = 931.49432   #MeV\n",
    "Esc_500 = []\n",
    "Q2_500 = []\n",
    "theta_500 = []\n",
    "the = 0\n",
    "#for i in range(360):\n",
    "#    E1 = Ev / (1 + Ev/(M * (299792458)**2) * (1 - #math.cos(math.radians(the))))\n",
    "#    print(E1)\n",
    "#    theta.append(the)\n",
    "#    the+=1\n",
    "\n",
    "for i in range(360):\n",
    "    E1 = Ev_500 / (1 + Ev_500/(M) * (1 - math.cos(math.radians(the))))\n",
    "    p1 = math.sqrt(E1**2 - m_e**2)\n",
    "    Q2_ = (Ev_500 - E1)**2 + (p_500 + p1)**2\n",
    "    theta_500.append(the)\n",
    "    Esc_500.append(E1)\n",
    "    Q2_500.append(Q2_)\n",
    "    the+=1"
   ]
  },
  {
   "cell_type": "code",
   "execution_count": 84,
   "metadata": {},
   "outputs": [],
   "source": [
    "#Carbon\n",
    "M = 931.49432*12   #MeV\n",
    "Esc_500_c = []\n",
    "Q2_500_c = []\n",
    "theta_500_c = []\n",
    "the = 0\n",
    "#for i in range(360):\n",
    "#    E1 = Ev / (1 + Ev/(M * (299792458)**2) * (1 - #math.cos(math.radians(the))))\n",
    "#    print(E1)\n",
    "#    theta.append(the)\n",
    "#    the+=1\n",
    "\n",
    "for i in range(360):\n",
    "    E1 = Ev_500 / (1 + Ev_500/(M) * (1 - math.cos(math.radians(the))))\n",
    "    p1 = math.sqrt(E1**2 - m_e**2)\n",
    "    Q2_ = (Ev_500 - E1)**2 + (p_500 + p1)**2\n",
    "    theta_500_c.append(the)\n",
    "    Esc_500_c.append(E1)\n",
    "    Q2_500_c.append(Q2_)\n",
    "    the+=1"
   ]
  },
  {
   "cell_type": "code",
   "execution_count": 85,
   "metadata": {},
   "outputs": [],
   "source": [
    "#Oxygen\n",
    "M = 931.49432*15.994914   #MeV\n",
    "Esc_500_o = []\n",
    "Q2_500_o = []\n",
    "theta_500_o = []\n",
    "the = 0\n",
    "#for i in range(360):\n",
    "#    E1 = Ev / (1 + Ev/(M * (299792458)**2) * (1 - #math.cos(math.radians(the))))\n",
    "#    print(E1)\n",
    "#    theta.append(the)\n",
    "#    the+=1\n",
    "\n",
    "for i in range(360):\n",
    "    E1 = Ev_500 / (1 + Ev_500/(M) * (1 - math.cos(math.radians(the))))\n",
    "    p1 = math.sqrt(E1**2 - m_e**2)\n",
    "    Q2_ = (Ev_500 - E1)**2 + (p_500 + p1)**2\n",
    "    theta_500_o.append(the)\n",
    "    Esc_500_o.append(E1)\n",
    "    Q2_500_o.append(Q2_)\n",
    "    the+=1"
   ]
  },
  {
   "cell_type": "code",
   "execution_count": 88,
   "metadata": {},
   "outputs": [
    {
     "data": {
      "image/png": "[encoded data removed]",
      "text/plain": [
       "<Figure size 432x288 with 2 Axes>"
      ]
     },
     "metadata": {
      "needs_background": "light"
     },
     "output_type": "display_data"
    }
   ],
   "source": [
    "#graphs 500 MeV\n",
    "\n",
    "figure, axis = plt.subplots(1,2)\n",
    "  \n",
    "# For Sine Function\n",
    "axis[0].plot(Q2_500, Esc_500)\n",
    "axis[0].plot(Q2_500_c, Esc_500_c)\n",
    "axis[0].plot(Q2_500_o, Esc_500_o)\n",
    "axis[0].set_title(\"500 MeV, Q2\")\n",
    "  \n",
    "# For Cosine Function\n",
    "axis[1].plot(theta_500, Esc_500)\n",
    "axis[1].plot(theta_500_c, Esc_500_c)\n",
    "axis[1].plot(theta_500_o, Esc_500_o)\n",
    "axis[1].set_title(\"500 MeV, theta\")\n",
    "  \n",
    "# Combine all the operations and display\n",
    "plt.show()"
   ]
  },
  {
   "cell_type": "code",
   "execution_count": null,
   "metadata": {},
   "outputs": [],
   "source": []
  }
 ],
 "metadata": {
  "kernelspec": {
   "display_name": "Python 3",
   "language": "python",
   "name": "python3"
  },
  "language_info": {
   "codemirror_mode": {
    "name": "ipython",
    "version": 3
   },
   "file_extension": ".py",
   "mimetype": "text/x-python",
   "name": "python",
   "nbconvert_exporter": "python",
   "pygments_lexer": "ipython3",
   "version": "3.8.5"
  }
 },
 "nbformat": 4,
 "nbformat_minor": 4
}
